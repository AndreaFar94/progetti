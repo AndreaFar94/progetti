{
 "cells": [
  {
   "cell_type": "markdown",
   "id": "46ef7fee-1599-495f-be22-bf019e45e285",
   "metadata": {},
   "source": [
    "### Lista videogiochi, inclusi nel servizio in abbonamento di Microsoft: \"Gamepass\", in relazione alla critica e utenza del sito web Metacritic*.\n",
    "- **Titolo:** Nome del videogioco;\n",
    "- **Metascore:** Valutazione del titolo da parte della critica;\n",
    "- **Metascore_Reviews:** Numero di recensioni critica;\n",
    "- **User_Score:** Valutazione del titolo da parte degli utenti della piattaforma;\n",
    "- **Developer:** Nome del team di sviluppo;\n",
    "- **Genres:** Generi di videogioco;\n",
    "- **Released_on:** Data di rilascio.\n",
    "\n",
    "/* \n",
    "- *I titoli presi in considerazione in quest'analisi, fanno riferimento alla libreria dell'abbonamento Gamepass, senza contare i titoli che presto lasceranno il catalogo, e quelli aggiunti nel mese di gennaio. Aggiornamento al 31/01/2025.*\n",
    "- *I dati presi in considerazione fanno fede solo a quelli con una valutazione presente nel campo \"Metascore\". Quelli sprovvisti, saranno comunque conteggiati, ma non verrano presi in considerazioni in eventuali operazioni sui dati in se.*\n",
    "\n",
    "#### L'obiettivo dell'analisi è di di individuare, attraverso i dati estratti, tipologia di titoli da inserire in futuro nel catalogo, analizzando le valutazioni, generi, sviluppatori ed eventualmente anche date di rilascio di quelli presenti nella lista."
   ]
  },
  {
   "cell_type": "code",
   "execution_count": 12,
   "id": "4fd6b9ff-b93b-42c7-a7ea-470883dae182",
   "metadata": {
    "jupyter": {
     "source_hidden": true
    }
   },
   "outputs": [],
   "source": [
    "\n",
    "import pandas as pd\n",
    "from IPython.display import display\n",
    "import matplotlib.pyplot as plt\n",
    "import seaborn as sns\n",
    "\n",
    "df = pd.read_csv(\"./gamepass_pulito.csv\",encoding=\"ISO-8859-1\", sep=';')\n",
    "df[\"Released_on\"] = pd.to_datetime(df[\"Released_on\"],format=\"%d/%m/%Y\")"
   ]
  },
  {
   "cell_type": "code",
   "execution_count": 4,
   "id": "6e146388-6851-429e-9841-7d147d74f959",
   "metadata": {
    "jupyter": {
     "source_hidden": true
    }
   },
   "outputs": [],
   "source": [
    "\n",
    "# creo copia dataframe per poter lavorare sui valori NON nulli e non utilizi per analisi specifiche.\n",
    "df_no_nulli = df.copy()\n",
    "df_no_nulli = pd.DataFrame(df_no_nulli)\n",
    "df_no_nulli = df_no_nulli.dropna(subset=\"Metascore\")\n",
    "df_no_nulli = df_no_nulli.reset_index()\n",
    "df_no_nulli = df_no_nulli.drop(columns=\"index\")\n",
    "df_no_nulli[\"Metascore\"] = df_no_nulli[\"Metascore\"].astype(int)\n",
    "df_no_nulli[\"Metascore_Reviews\"] = df_no_nulli[\"Metascore_Reviews\"].astype(int)\n",
    "df_no_nulli[\"User_Score\"] = df_no_nulli[\"User_Score\"].astype(int)"
   ]
  },
  {
   "cell_type": "markdown",
   "id": "63b3a576-ed47-46c7-9ad8-d2f5fe0965ee",
   "metadata": {},
   "source": [
    "## ---------------------------------------------------------------------------------------------------"
   ]
  },
  {
   "cell_type": "markdown",
   "id": "9f6fb4f3-5ded-4238-926b-056c06c3d0c9",
   "metadata": {
    "jp-MarkdownHeadingCollapsed": true
   },
   "source": [
    "## Analisi sul genere dei videogiochi."
   ]
  },
  {
   "cell_type": "markdown",
   "id": "1c202636-a094-4009-bb71-cf51dfdfd661",
   "metadata": {},
   "source": [
    "### I singoli generi più presenti all'interno del catalogo"
   ]
  },
  {
   "cell_type": "code",
   "execution_count": 5,
   "id": "d14cc909-f16f-47b5-a204-ecdb5d5925ee",
   "metadata": {
    "jupyter": {
     "source_hidden": true
    }
   },
   "outputs": [
    {
     "name": "stdout",
     "output_type": "stream",
     "text": [
      "Il numero totale dei diversi generi, presenti all'interno del catalogo, sono: 76 \n",
      "\n"
     ]
    },
    {
     "data": {
      "text/html": [
       "<div>\n",
       "<style scoped>\n",
       "    .dataframe tbody tr th:only-of-type {\n",
       "        vertical-align: middle;\n",
       "    }\n",
       "\n",
       "    .dataframe tbody tr th {\n",
       "        vertical-align: top;\n",
       "    }\n",
       "\n",
       "    .dataframe thead th {\n",
       "        text-align: right;\n",
       "    }\n",
       "</style>\n",
       "<table border=\"1\" class=\"dataframe\">\n",
       "  <thead>\n",
       "    <tr style=\"text-align: right;\">\n",
       "      <th></th>\n",
       "      <th>Metascore</th>\n",
       "    </tr>\n",
       "    <tr>\n",
       "      <th>Genres</th>\n",
       "      <th></th>\n",
       "    </tr>\n",
       "  </thead>\n",
       "  <tbody>\n",
       "    <tr>\n",
       "      <th>FPS</th>\n",
       "      <td>48</td>\n",
       "    </tr>\n",
       "    <tr>\n",
       "      <th>Action Adventure</th>\n",
       "      <td>41</td>\n",
       "    </tr>\n",
       "    <tr>\n",
       "      <th>Open-World Action</th>\n",
       "      <td>41</td>\n",
       "    </tr>\n",
       "    <tr>\n",
       "      <th>Western RPG</th>\n",
       "      <td>26</td>\n",
       "    </tr>\n",
       "    <tr>\n",
       "      <th>Action RPG</th>\n",
       "      <td>26</td>\n",
       "    </tr>\n",
       "  </tbody>\n",
       "</table>\n",
       "</div>"
      ],
      "text/plain": [
       "                   Metascore\n",
       "Genres                      \n",
       "FPS                       48\n",
       "Action Adventure          41\n",
       "Open-World Action         41\n",
       "Western RPG               26\n",
       "Action RPG                26"
      ]
     },
     "execution_count": 5,
     "metadata": {},
     "output_type": "execute_result"
    },
    {
     "data": {
      "image/png": "[encoded data removed]",
      "text/plain": [
       "<Figure size 1000x1200 with 1 Axes>"
      ]
     },
     "metadata": {},
     "output_type": "display_data"
    }
   ],
   "source": [
    "\n",
    "df_no_nulli.groupby(\"Genres\")[\"Metascore\"].count().sort_values().plot(kind = \"barh\", figsize=(10, 12), zorder=3)\n",
    "plt.xticks(rotation=80, ha=\"right\")\n",
    "plt.title(\"Conteggio dei generi più presenti\", size=20)\n",
    "plt.ylabel(\"Genere videogioco\", size=15)\n",
    "plt.xlabel(\"Conteggio\",size=15)\n",
    "plt.grid(True, axis=\"x\", zorder=0)\n",
    "\n",
    "print(\"Il numero totale dei diversi generi, presenti all'interno del catalogo, sono:\",df[\"Genres\"].nunique(),\"\\n\")\n",
    "pd.DataFrame(df.groupby(\"Genres\")[\"Metascore\"].count().sort_values(ascending=False).head(5))"
   ]
  },
  {
   "cell_type": "markdown",
   "id": "58b30fc7-42a5-4344-9b88-fc1085fdc1eb",
   "metadata": {},
   "source": [
    "#### Generi con il miglior metascore, in media, e generi più presenti:"
   ]
  },
  {
   "cell_type": "code",
   "execution_count": 8,
   "id": "a181a09c-0cdb-45b0-9284-759d97e92618",
   "metadata": {
    "jupyter": {
     "source_hidden": true
    }
   },
   "outputs": [
    {
     "data": {
      "text/html": [
       "<div>\n",
       "<style scoped>\n",
       "    .dataframe tbody tr th:only-of-type {\n",
       "        vertical-align: middle;\n",
       "    }\n",
       "\n",
       "    .dataframe tbody tr th {\n",
       "        vertical-align: top;\n",
       "    }\n",
       "\n",
       "    .dataframe thead th {\n",
       "        text-align: right;\n",
       "    }\n",
       "</style>\n",
       "<table border=\"1\" class=\"dataframe\">\n",
       "  <thead>\n",
       "    <tr style=\"text-align: right;\">\n",
       "      <th></th>\n",
       "      <th>Metascore</th>\n",
       "      <th>Conteggio</th>\n",
       "    </tr>\n",
       "    <tr>\n",
       "      <th>Genres</th>\n",
       "      <th></th>\n",
       "      <th></th>\n",
       "    </tr>\n",
       "  </thead>\n",
       "  <tbody>\n",
       "    <tr>\n",
       "      <th>Aircraft Combat Sim</th>\n",
       "      <td>88.00</td>\n",
       "      <td>1</td>\n",
       "    </tr>\n",
       "    <tr>\n",
       "      <th>Card Battle</th>\n",
       "      <td>85.25</td>\n",
       "      <td>4</td>\n",
       "    </tr>\n",
       "    <tr>\n",
       "      <th>2D Beat-'Em-Up</th>\n",
       "      <td>85.00</td>\n",
       "      <td>1</td>\n",
       "    </tr>\n",
       "    <tr>\n",
       "      <th>Strategy</th>\n",
       "      <td>84.00</td>\n",
       "      <td>1</td>\n",
       "    </tr>\n",
       "    <tr>\n",
       "      <th>Soccer Management</th>\n",
       "      <td>84.00</td>\n",
       "      <td>1</td>\n",
       "    </tr>\n",
       "  </tbody>\n",
       "</table>\n",
       "</div>"
      ],
      "text/plain": [
       "                     Metascore  Conteggio\n",
       "Genres                                   \n",
       "Aircraft Combat Sim      88.00          1\n",
       "Card Battle              85.25          4\n",
       "2D Beat-'Em-Up           85.00          1\n",
       "Strategy                 84.00          1\n",
       "Soccer Management        84.00          1"
      ]
     },
     "metadata": {},
     "output_type": "display_data"
    },
    {
     "data": {
      "text/html": [
       "<div>\n",
       "<style scoped>\n",
       "    .dataframe tbody tr th:only-of-type {\n",
       "        vertical-align: middle;\n",
       "    }\n",
       "\n",
       "    .dataframe tbody tr th {\n",
       "        vertical-align: top;\n",
       "    }\n",
       "\n",
       "    .dataframe thead th {\n",
       "        text-align: right;\n",
       "    }\n",
       "</style>\n",
       "<table border=\"1\" class=\"dataframe\">\n",
       "  <thead>\n",
       "    <tr style=\"text-align: right;\">\n",
       "      <th></th>\n",
       "      <th>Metascore</th>\n",
       "      <th>Conteggio</th>\n",
       "      <th>Percentuale_Presenza</th>\n",
       "    </tr>\n",
       "    <tr>\n",
       "      <th>Genres</th>\n",
       "      <th></th>\n",
       "      <th></th>\n",
       "      <th></th>\n",
       "    </tr>\n",
       "  </thead>\n",
       "  <tbody>\n",
       "    <tr>\n",
       "      <th>FPS</th>\n",
       "      <td>81.17</td>\n",
       "      <td>48</td>\n",
       "      <td>9.18%</td>\n",
       "    </tr>\n",
       "    <tr>\n",
       "      <th>Action Adventure</th>\n",
       "      <td>77.83</td>\n",
       "      <td>41</td>\n",
       "      <td>7.84%</td>\n",
       "    </tr>\n",
       "    <tr>\n",
       "      <th>Open-World Action</th>\n",
       "      <td>76.07</td>\n",
       "      <td>41</td>\n",
       "      <td>7.84%</td>\n",
       "    </tr>\n",
       "    <tr>\n",
       "      <th>Western RPG</th>\n",
       "      <td>82.54</td>\n",
       "      <td>26</td>\n",
       "      <td>4.97%</td>\n",
       "    </tr>\n",
       "    <tr>\n",
       "      <th>Action RPG</th>\n",
       "      <td>78.62</td>\n",
       "      <td>26</td>\n",
       "      <td>4.97%</td>\n",
       "    </tr>\n",
       "  </tbody>\n",
       "</table>\n",
       "</div>"
      ],
      "text/plain": [
       "                   Metascore  Conteggio Percentuale_Presenza\n",
       "Genres                                                      \n",
       "FPS                    81.17         48                9.18%\n",
       "Action Adventure       77.83         41                7.84%\n",
       "Open-World Action      76.07         41                7.84%\n",
       "Western RPG            82.54         26                4.97%\n",
       "Action RPG             78.62         26                4.97%"
      ]
     },
     "metadata": {},
     "output_type": "display_data"
    }
   ],
   "source": [
    "\n",
    "ordinato_metascore = df_no_nulli.groupby(\"Genres\").agg(Metascore=(\"Metascore\", \"mean\"),Conteggio=(\"Metascore\", \"size\")).sort_values(by=\"Metascore\", ascending=False).head(5)\n",
    "ordinato_conteggio = round(df_no_nulli.groupby(\"Genres\").agg(Metascore=(\"Metascore\", \"mean\"),Conteggio=(\"Metascore\", \"size\")).sort_values(by=\"Conteggio\", ascending=False).head(5),2)\n",
    "\n",
    "ordinato_conteggio['Percentuale_Presenza'] = (ordinato_conteggio['Conteggio'] / df.shape[0]) * 100\n",
    "ordinato_conteggio['Percentuale_Presenza'] = ordinato_conteggio['Percentuale_Presenza'].apply(lambda x: f\"{x:.2f}%\")\n",
    "\n",
    "\n",
    "display(ordinato_metascore)\n",
    "display(ordinato_conteggio)"
   ]
  },
  {
   "cell_type": "markdown",
   "id": "606c0eb7-3db3-4c63-a73b-7040d75fe7cd",
   "metadata": {},
   "source": [
    "#### Generi con il peggior metascore, in media, e presenza nel catalogo:"
   ]
  },
  {
   "cell_type": "code",
   "execution_count": 85,
   "id": "c2266168-5b43-4b6f-a8a2-657a19028c29",
   "metadata": {
    "jupyter": {
     "source_hidden": true
    }
   },
   "outputs": [
    {
     "data": {
      "text/html": [
       "<div>\n",
       "<style scoped>\n",
       "    .dataframe tbody tr th:only-of-type {\n",
       "        vertical-align: middle;\n",
       "    }\n",
       "\n",
       "    .dataframe tbody tr th {\n",
       "        vertical-align: top;\n",
       "    }\n",
       "\n",
       "    .dataframe thead th {\n",
       "        text-align: right;\n",
       "    }\n",
       "</style>\n",
       "<table border=\"1\" class=\"dataframe\">\n",
       "  <thead>\n",
       "    <tr style=\"text-align: right;\">\n",
       "      <th></th>\n",
       "      <th>Metascore</th>\n",
       "      <th>Conteggio</th>\n",
       "      <th>Percentuale_Presenza</th>\n",
       "    </tr>\n",
       "    <tr>\n",
       "      <th>Genres</th>\n",
       "      <th></th>\n",
       "      <th></th>\n",
       "      <th></th>\n",
       "    </tr>\n",
       "  </thead>\n",
       "  <tbody>\n",
       "    <tr>\n",
       "      <th>Cricket</th>\n",
       "      <td>57.0</td>\n",
       "      <td>1</td>\n",
       "      <td>0.19%</td>\n",
       "    </tr>\n",
       "    <tr>\n",
       "      <th>Fishing</th>\n",
       "      <td>63.0</td>\n",
       "      <td>1</td>\n",
       "      <td>0.19%</td>\n",
       "    </tr>\n",
       "    <tr>\n",
       "      <th>Hunting</th>\n",
       "      <td>64.0</td>\n",
       "      <td>1</td>\n",
       "      <td>0.19%</td>\n",
       "    </tr>\n",
       "    <tr>\n",
       "      <th>Football Sim</th>\n",
       "      <td>67.0</td>\n",
       "      <td>2</td>\n",
       "      <td>0.38%</td>\n",
       "    </tr>\n",
       "    <tr>\n",
       "      <th>Golf</th>\n",
       "      <td>68.0</td>\n",
       "      <td>1</td>\n",
       "      <td>0.19%</td>\n",
       "    </tr>\n",
       "  </tbody>\n",
       "</table>\n",
       "</div>"
      ],
      "text/plain": [
       "              Metascore  Conteggio Percentuale_Presenza\n",
       "Genres                                                 \n",
       "Cricket            57.0          1                0.19%\n",
       "Fishing            63.0          1                0.19%\n",
       "Hunting            64.0          1                0.19%\n",
       "Football Sim       67.0          2                0.38%\n",
       "Golf               68.0          1                0.19%"
      ]
     },
     "metadata": {},
     "output_type": "display_data"
    }
   ],
   "source": [
    "\n",
    "ordinato_metascore = round(df_no_nulli.groupby(\"Genres\").agg(Metascore=(\"Metascore\", \"mean\"),Conteggio=(\"Metascore\", \"size\")).sort_values(by=\"Metascore\").head(5),2)\n",
    "\n",
    "ordinato_metascore['Percentuale_Presenza'] = (ordinato_metascore['Conteggio'] / df.shape[0]) * 100\n",
    "ordinato_metascore['Percentuale_Presenza'] = ordinato_metascore['Percentuale_Presenza'].apply(lambda x: f\"{x:.2f}%\")\n",
    "\n",
    "\n",
    "display(ordinato_metascore)"
   ]
  },
  {
   "cell_type": "markdown",
   "id": "3070d5a4-ac5d-4e58-81a3-3524e763a33e",
   "metadata": {},
   "source": [
    "#### Si può dedurre che: \n",
    "\n",
    " - Il genere più presente è quello degli FPS (9.18%) e il suo punteggio secondo la critica è di 81;\n",
    " - Ci sono due sottogeneri del genere \"Action\", ovvero \"Adventure\" e \"Open-World\", che sono tra i primi cinque più presenti, avendo una buona valutazione (78 e 76) e apparendo per il 15.68%;\n",
    " - Ci sono altri due sottogeneri di \"RPG\", ovvero \"Western\" e \"Action\", che sono tra i primi cinque più presenti, avendo un'ottima valutazione (83 e 79), e appaiono per il 9.94%;\n",
    " - I punteggi con il maggior Metascore, appaiono pochissime volte ma sono ben valutati. Bisognerebbe valutare se si può inserire qualche altro titolo per questi generi, sia per puntare sulla varietà offerta dall'abbonamento, sia perchè gli stessi sono ben valutati ma poco sfruttati, potrebbero portare quel livello in più di qualità dell'abbonamento.\n",
    " - I titoli con meno valutazione sono quelli relativi a gli sport. "
   ]
  },
  {
   "cell_type": "markdown",
   "id": "d07ea00b-956f-48af-9734-1905efa1fc87",
   "metadata": {},
   "source": [
    "## ---------------------------------------------------------------------------------------------------"
   ]
  },
  {
   "cell_type": "markdown",
   "id": "044808f5-9efa-4406-ac4e-0e506cce5ba2",
   "metadata": {
    "jp-MarkdownHeadingCollapsed": true
   },
   "source": [
    "## Analisi su Developer:"
   ]
  },
  {
   "cell_type": "markdown",
   "id": "911db924-5204-4d89-af5a-c80b14bf0d7d",
   "metadata": {},
   "source": [
    "#### Analisi sul rapporto Valutazione/Developer"
   ]
  },
  {
   "cell_type": "code",
   "execution_count": 52,
   "id": "d0e36cc5-19d1-4589-9b78-49a068380d94",
   "metadata": {
    "jupyter": {
     "source_hidden": true
    }
   },
   "outputs": [
    {
     "name": "stdout",
     "output_type": "stream",
     "text": [
      "\n",
      "Il numero totale dei diversi Developer, presenti all'interno del catalogo, sono: 320 \n",
      "\n",
      "-----------------------------------------------------\n",
      "\n",
      "Media Metascore in base ai Developer:\n",
      "\n",
      "-----------------------------------------------------\n"
     ]
    },
    {
     "data": {
      "text/html": [
       "<div>\n",
       "<style scoped>\n",
       "    .dataframe tbody tr th:only-of-type {\n",
       "        vertical-align: middle;\n",
       "    }\n",
       "\n",
       "    .dataframe tbody tr th {\n",
       "        vertical-align: top;\n",
       "    }\n",
       "\n",
       "    .dataframe thead th {\n",
       "        text-align: right;\n",
       "    }\n",
       "</style>\n",
       "<table border=\"1\" class=\"dataframe\">\n",
       "  <thead>\n",
       "    <tr style=\"text-align: right;\">\n",
       "      <th></th>\n",
       "      <th>Metascore</th>\n",
       "      <th>Conteggio</th>\n",
       "    </tr>\n",
       "    <tr>\n",
       "      <th>Developer</th>\n",
       "      <th></th>\n",
       "      <th></th>\n",
       "    </tr>\n",
       "  </thead>\n",
       "  <tbody>\n",
       "    <tr>\n",
       "      <th>Raster</th>\n",
       "      <td>93.0</td>\n",
       "      <td>1</td>\n",
       "    </tr>\n",
       "    <tr>\n",
       "      <th>Bungie</th>\n",
       "      <td>92.0</td>\n",
       "      <td>2</td>\n",
       "    </tr>\n",
       "    <tr>\n",
       "      <th>Playground Games</th>\n",
       "      <td>92.0</td>\n",
       "      <td>1</td>\n",
       "    </tr>\n",
       "    <tr>\n",
       "      <th>Maddy Makes Games</th>\n",
       "      <td>92.0</td>\n",
       "      <td>1</td>\n",
       "    </tr>\n",
       "    <tr>\n",
       "      <th>PLAYDEAD</th>\n",
       "      <td>92.0</td>\n",
       "      <td>2</td>\n",
       "    </tr>\n",
       "  </tbody>\n",
       "</table>\n",
       "</div>"
      ],
      "text/plain": [
       "                   Metascore  Conteggio\n",
       "Developer                              \n",
       "Raster                  93.0          1\n",
       "Bungie                  92.0          2\n",
       "Playground Games        92.0          1\n",
       "Maddy Makes Games       92.0          1\n",
       "PLAYDEAD                92.0          2"
      ]
     },
     "metadata": {},
     "output_type": "display_data"
    },
    {
     "name": "stdout",
     "output_type": "stream",
     "text": [
      "-----------------------------------------------------\n",
      "\n",
      "Media Metascore in base al conteggio dei Developer:\n",
      "\n",
      "-----------------------------------------------------\n"
     ]
    },
    {
     "data": {
      "text/html": [
       "<div>\n",
       "<style scoped>\n",
       "    .dataframe tbody tr th:only-of-type {\n",
       "        vertical-align: middle;\n",
       "    }\n",
       "\n",
       "    .dataframe tbody tr th {\n",
       "        vertical-align: top;\n",
       "    }\n",
       "\n",
       "    .dataframe thead th {\n",
       "        text-align: right;\n",
       "    }\n",
       "</style>\n",
       "<table border=\"1\" class=\"dataframe\">\n",
       "  <thead>\n",
       "    <tr style=\"text-align: right;\">\n",
       "      <th></th>\n",
       "      <th>Metascore</th>\n",
       "      <th>Conteggio</th>\n",
       "    </tr>\n",
       "    <tr>\n",
       "      <th>Developer</th>\n",
       "      <th></th>\n",
       "      <th></th>\n",
       "    </tr>\n",
       "  </thead>\n",
       "  <tbody>\n",
       "    <tr>\n",
       "      <th>Double Fine Productions</th>\n",
       "      <td>80.0</td>\n",
       "      <td>13</td>\n",
       "    </tr>\n",
       "    <tr>\n",
       "      <th>PopCap</th>\n",
       "      <td>81.0</td>\n",
       "      <td>11</td>\n",
       "    </tr>\n",
       "    <tr>\n",
       "      <th>BioWare</th>\n",
       "      <td>84.0</td>\n",
       "      <td>10</td>\n",
       "    </tr>\n",
       "    <tr>\n",
       "      <th>Rare Ltd.</th>\n",
       "      <td>83.0</td>\n",
       "      <td>10</td>\n",
       "    </tr>\n",
       "    <tr>\n",
       "      <th>Ryu ga Gotoku Studios</th>\n",
       "      <td>82.0</td>\n",
       "      <td>9</td>\n",
       "    </tr>\n",
       "  </tbody>\n",
       "</table>\n",
       "</div>"
      ],
      "text/plain": [
       "                         Metascore  Conteggio\n",
       "Developer                                    \n",
       "Double Fine Productions       80.0         13\n",
       "PopCap                        81.0         11\n",
       "BioWare                       84.0         10\n",
       "Rare Ltd.                     83.0         10\n",
       "Ryu ga Gotoku Studios         82.0          9"
      ]
     },
     "metadata": {},
     "output_type": "display_data"
    }
   ],
   "source": [
    "\n",
    "print(\"\\nIl numero totale dei diversi Developer, presenti all'interno del catalogo, sono:\",df[\"Developer\"].nunique(),\"\\n\")\n",
    "print(\"-----------------------------------------------------\")\n",
    "\n",
    "print(\"\\nMedia Metascore in base ai Developer:\\n\")\n",
    "print(\"-----------------------------------------------------\")\n",
    "\n",
    "display(pd.DataFrame(round(df_no_nulli.groupby(\"Developer\").agg(Metascore=(\"Metascore\",\"mean\"),Conteggio=(\"Developer\",\"size\")).sort_values(by=\"Metascore\",ascending=False).head(5))))\n",
    "\n",
    "print(\"-----------------------------------------------------\")\n",
    "\n",
    "print(\"\\nMedia Metascore in base al conteggio dei Developer:\\n\")\n",
    "print(\"-----------------------------------------------------\")\n",
    "display(pd.DataFrame(round(df_no_nulli.groupby(\"Developer\").agg(Metascore=(\"Metascore\",\"mean\"),Conteggio=(\"Developer\",\"size\")).sort_values(by=\"Conteggio\",ascending=False).head(5))))"
   ]
  },
  {
   "cell_type": "markdown",
   "id": "33b183dc-f180-4c63-b287-54cc0ea3fa6f",
   "metadata": {},
   "source": [
    "#### Numero di titoli presenti nel catalogo, in base al team di sviluppo (primi 15)"
   ]
  },
  {
   "cell_type": "code",
   "execution_count": 9,
   "id": "a99be217-e5ac-46a7-a7af-11f1ccbcca7c",
   "metadata": {
    "jupyter": {
     "source_hidden": true
    }
   },
   "outputs": [
    {
     "data": {
      "image/png": "[encoded data removed]",
      "text/plain": [
       "<Figure size 640x480 with 1 Axes>"
      ]
     },
     "metadata": {},
     "output_type": "display_data"
    }
   ],
   "source": [
    "\n",
    "team_titoli = pd.DataFrame(df.groupby(\"Developer\")[\"Titolo\"].count().sort_values(ascending=False).head(15))\n",
    "team_titoli.plot(kind=\"barh\", zorder=3)\n",
    "plt.title(\"Numero di titoli presenti nel catalogo, in base al team di sviluppo (primi 15)\\n\", size=15)\n",
    "plt.ylabel(\"Developer\", size=15)\n",
    "plt.xlabel(\"Numero titoli\",size=15)\n",
    "plt.grid(True, axis=\"x\", zorder=0)\n",
    "plt.gca().invert_yaxis()"
   ]
  },
  {
   "cell_type": "markdown",
   "id": "73137efb-d141-43bd-bfc7-700b8b5dd0fa",
   "metadata": {},
   "source": [
    "#### Videogiochi per developer (estratti quelli con Metascore in media, più alto tra i vari titoli pubblicati dallo stesso sviluppatore)"
   ]
  },
  {
   "cell_type": "code",
   "execution_count": 118,
   "id": "4a6d2356-056a-4800-a42b-a7ceceb263ff",
   "metadata": {
    "jupyter": {
     "source_hidden": true
    }
   },
   "outputs": [
    {
     "data": {
      "text/html": [
       "<div>\n",
       "<style scoped>\n",
       "    .dataframe tbody tr th:only-of-type {\n",
       "        vertical-align: middle;\n",
       "    }\n",
       "\n",
       "    .dataframe tbody tr th {\n",
       "        vertical-align: top;\n",
       "    }\n",
       "\n",
       "    .dataframe thead th {\n",
       "        text-align: right;\n",
       "    }\n",
       "</style>\n",
       "<table border=\"1\" class=\"dataframe\">\n",
       "  <thead>\n",
       "    <tr style=\"text-align: right;\">\n",
       "      <th></th>\n",
       "      <th>Titolo</th>\n",
       "      <th>Metascore</th>\n",
       "      <th>Metascore_Reviews</th>\n",
       "      <th>User_Score</th>\n",
       "      <th>Developer</th>\n",
       "      <th>Genres</th>\n",
       "      <th>Released_on</th>\n",
       "      <th>Year</th>\n",
       "    </tr>\n",
       "  </thead>\n",
       "  <tbody>\n",
       "    <tr>\n",
       "      <th>373</th>\n",
       "      <td>Psychonauts 2</td>\n",
       "      <td>87.0</td>\n",
       "      <td>72.0</td>\n",
       "      <td>81.0</td>\n",
       "      <td>Double Fine Productions</td>\n",
       "      <td>3D Platformer</td>\n",
       "      <td>2021-08-25</td>\n",
       "      <td>2021.0</td>\n",
       "    </tr>\n",
       "  </tbody>\n",
       "</table>\n",
       "</div>"
      ],
      "text/plain": [
       "            Titolo  Metascore  Metascore_Reviews  User_Score  \\\n",
       "373  Psychonauts 2       87.0               72.0        81.0   \n",
       "\n",
       "                   Developer         Genres Released_on    Year  \n",
       "373  Double Fine Productions  3D Platformer  2021-08-25  2021.0  "
      ]
     },
     "metadata": {},
     "output_type": "display_data"
    },
    {
     "data": {
      "text/html": [
       "<div>\n",
       "<style scoped>\n",
       "    .dataframe tbody tr th:only-of-type {\n",
       "        vertical-align: middle;\n",
       "    }\n",
       "\n",
       "    .dataframe tbody tr th {\n",
       "        vertical-align: top;\n",
       "    }\n",
       "\n",
       "    .dataframe thead th {\n",
       "        text-align: right;\n",
       "    }\n",
       "</style>\n",
       "<table border=\"1\" class=\"dataframe\">\n",
       "  <thead>\n",
       "    <tr style=\"text-align: right;\">\n",
       "      <th></th>\n",
       "      <th>Titolo</th>\n",
       "      <th>Metascore</th>\n",
       "      <th>Metascore_Reviews</th>\n",
       "      <th>User_Score</th>\n",
       "      <th>Developer</th>\n",
       "      <th>Genres</th>\n",
       "      <th>Released_on</th>\n",
       "      <th>Year</th>\n",
       "    </tr>\n",
       "  </thead>\n",
       "  <tbody>\n",
       "    <tr>\n",
       "      <th>364</th>\n",
       "      <td>Plants vs. Zombies: Battle for Neighborville</td>\n",
       "      <td>77.0</td>\n",
       "      <td>25.0</td>\n",
       "      <td>57.0</td>\n",
       "      <td>PopCap</td>\n",
       "      <td>Tactical Third Person Shooter</td>\n",
       "      <td>2019-09-04</td>\n",
       "      <td>2019.0</td>\n",
       "    </tr>\n",
       "  </tbody>\n",
       "</table>\n",
       "</div>"
      ],
      "text/plain": [
       "                                           Titolo  Metascore  \\\n",
       "364  Plants vs. Zombies: Battle for Neighborville       77.0   \n",
       "\n",
       "     Metascore_Reviews  User_Score Developer                         Genres  \\\n",
       "364               25.0        57.0    PopCap  Tactical Third Person Shooter   \n",
       "\n",
       "    Released_on    Year  \n",
       "364  2019-09-04  2019.0  "
      ]
     },
     "metadata": {},
     "output_type": "display_data"
    },
    {
     "data": {
      "text/html": [
       "<div>\n",
       "<style scoped>\n",
       "    .dataframe tbody tr th:only-of-type {\n",
       "        vertical-align: middle;\n",
       "    }\n",
       "\n",
       "    .dataframe tbody tr th {\n",
       "        vertical-align: top;\n",
       "    }\n",
       "\n",
       "    .dataframe thead th {\n",
       "        text-align: right;\n",
       "    }\n",
       "</style>\n",
       "<table border=\"1\" class=\"dataframe\">\n",
       "  <thead>\n",
       "    <tr style=\"text-align: right;\">\n",
       "      <th></th>\n",
       "      <th>Titolo</th>\n",
       "      <th>Metascore</th>\n",
       "      <th>Metascore_Reviews</th>\n",
       "      <th>User_Score</th>\n",
       "      <th>Developer</th>\n",
       "      <th>Genres</th>\n",
       "      <th>Released_on</th>\n",
       "      <th>Year</th>\n",
       "    </tr>\n",
       "  </thead>\n",
       "  <tbody>\n",
       "    <tr>\n",
       "      <th>403</th>\n",
       "      <td>Sea of Thieves</td>\n",
       "      <td>69.0</td>\n",
       "      <td>78.0</td>\n",
       "      <td>56.0</td>\n",
       "      <td>Rare Ltd.</td>\n",
       "      <td>Open-World Action</td>\n",
       "      <td>2018-03-20</td>\n",
       "      <td>2018.0</td>\n",
       "    </tr>\n",
       "  </tbody>\n",
       "</table>\n",
       "</div>"
      ],
      "text/plain": [
       "             Titolo  Metascore  Metascore_Reviews  User_Score  Developer  \\\n",
       "403  Sea of Thieves       69.0               78.0        56.0  Rare Ltd.   \n",
       "\n",
       "                Genres Released_on    Year  \n",
       "403  Open-World Action  2018-03-20  2018.0  "
      ]
     },
     "metadata": {},
     "output_type": "display_data"
    },
    {
     "data": {
      "text/html": [
       "<div>\n",
       "<style scoped>\n",
       "    .dataframe tbody tr th:only-of-type {\n",
       "        vertical-align: middle;\n",
       "    }\n",
       "\n",
       "    .dataframe tbody tr th {\n",
       "        vertical-align: top;\n",
       "    }\n",
       "\n",
       "    .dataframe thead th {\n",
       "        text-align: right;\n",
       "    }\n",
       "</style>\n",
       "<table border=\"1\" class=\"dataframe\">\n",
       "  <thead>\n",
       "    <tr style=\"text-align: right;\">\n",
       "      <th></th>\n",
       "      <th>Titolo</th>\n",
       "      <th>Metascore</th>\n",
       "      <th>Metascore_Reviews</th>\n",
       "      <th>User_Score</th>\n",
       "      <th>Developer</th>\n",
       "      <th>Genres</th>\n",
       "      <th>Released_on</th>\n",
       "      <th>Year</th>\n",
       "    </tr>\n",
       "  </thead>\n",
       "  <tbody>\n",
       "    <tr>\n",
       "      <th>284</th>\n",
       "      <td>Mass Effect Legendary Ed.</td>\n",
       "      <td>87.0</td>\n",
       "      <td>47.0</td>\n",
       "      <td>75.0</td>\n",
       "      <td>BioWare</td>\n",
       "      <td>Compilation</td>\n",
       "      <td>2021-05-14</td>\n",
       "      <td>2021.0</td>\n",
       "    </tr>\n",
       "    <tr>\n",
       "      <th>10</th>\n",
       "      <td>Anthem</td>\n",
       "      <td>59.0</td>\n",
       "      <td>89.0</td>\n",
       "      <td>40.0</td>\n",
       "      <td>BioWare</td>\n",
       "      <td>Action RPG</td>\n",
       "      <td>2019-02-15</td>\n",
       "      <td>2019.0</td>\n",
       "    </tr>\n",
       "  </tbody>\n",
       "</table>\n",
       "</div>"
      ],
      "text/plain": [
       "                        Titolo  Metascore  Metascore_Reviews  User_Score  \\\n",
       "284  Mass Effect Legendary Ed.       87.0               47.0        75.0   \n",
       "10                      Anthem       59.0               89.0        40.0   \n",
       "\n",
       "    Developer       Genres Released_on    Year  \n",
       "284   BioWare  Compilation  2021-05-14  2021.0  \n",
       "10    BioWare   Action RPG  2019-02-15  2019.0  "
      ]
     },
     "metadata": {},
     "output_type": "display_data"
    },
    {
     "data": {
      "text/html": [
       "<div>\n",
       "<style scoped>\n",
       "    .dataframe tbody tr th:only-of-type {\n",
       "        vertical-align: middle;\n",
       "    }\n",
       "\n",
       "    .dataframe tbody tr th {\n",
       "        vertical-align: top;\n",
       "    }\n",
       "\n",
       "    .dataframe thead th {\n",
       "        text-align: right;\n",
       "    }\n",
       "</style>\n",
       "<table border=\"1\" class=\"dataframe\">\n",
       "  <thead>\n",
       "    <tr style=\"text-align: right;\">\n",
       "      <th></th>\n",
       "      <th>Titolo</th>\n",
       "      <th>Metascore</th>\n",
       "      <th>Metascore_Reviews</th>\n",
       "      <th>User_Score</th>\n",
       "      <th>Developer</th>\n",
       "      <th>Genres</th>\n",
       "      <th>Released_on</th>\n",
       "      <th>Year</th>\n",
       "    </tr>\n",
       "  </thead>\n",
       "  <tbody>\n",
       "    <tr>\n",
       "      <th>517</th>\n",
       "      <td>Yakuza: Like a Dragon</td>\n",
       "      <td>84.0</td>\n",
       "      <td>56.0</td>\n",
       "      <td>82.0</td>\n",
       "      <td>Ryu ga Gotoku Studios</td>\n",
       "      <td>JRPG</td>\n",
       "      <td>2020-11-10</td>\n",
       "      <td>2020.0</td>\n",
       "    </tr>\n",
       "  </tbody>\n",
       "</table>\n",
       "</div>"
      ],
      "text/plain": [
       "                    Titolo  Metascore  Metascore_Reviews  User_Score  \\\n",
       "517  Yakuza: Like a Dragon       84.0               56.0        82.0   \n",
       "\n",
       "                 Developer Genres Released_on    Year  \n",
       "517  Ryu ga Gotoku Studios   JRPG  2020-11-10  2020.0  "
      ]
     },
     "metadata": {},
     "output_type": "display_data"
    }
   ],
   "source": [
    "\n",
    "display(df[df[\"Developer\"] == \"Double Fine Productions\"].sort_values(by=\"Released_on\", ascending=False).head(1))\n",
    "display(df[df[\"Developer\"] == \"PopCap\"].sort_values(by=\"Released_on\", ascending=False).head(1))\n",
    "display(df[df[\"Developer\"] == \"Rare Ltd.\"].sort_values(by=\"Released_on\", ascending=False).head(1))\n",
    "display(df[df[\"Developer\"] == \"BioWare\"].sort_values(by=\"Released_on\", ascending=False).head(2))\n",
    "display(df[df[\"Developer\"] == \"Ryu ga Gotoku Studios\"].sort_values(by=\"Released_on\", ascending=False).head(1))"
   ]
  },
  {
   "cell_type": "markdown",
   "id": "4ed29c93-976f-474d-bb54-68dd51834f85",
   "metadata": {},
   "source": [
    "#### Considerazioni: \n",
    "\n",
    " - Per quanto riguarda il numero di titoli, che hanno la valutazione migliore in relazione a gli sviluppatori, è un numero esiguo. Infatti si tratta di un solo titolo per i 3/5 degli sviluppatori, e due per quanto riguarda \"Bungie\" e \"PLAYDEAD\", ma tutti gli sviluppatori hanno ottenuto in media uno score superiore al 90.\n",
    " - Per quanto riguarda il numero di titoli che più sono presenti in relazione a gli sviluppatori, spicca \"Double Fine Productions\" con ben 13 titoli, anche se lo score medio dei suoi giochi si aggira sul punteggio di 80. Fanno meglio i team di sviluppo \"Rare Ltd.\" e \"Bioware\", con rispettivamente 10 titoli e valutazione 83 di media, e 10 titoli con valutazione 84 di media.\n",
    " - Possiamo notare che, per quanto riguarda i team di sviluppo: \"Rare Ltd.\" e \"PopCap\", l'ultimo gioco pubblicato da ognuno di loro, non ha ottenuto una buona valutazione. Invece per quanto riguarda \"Ryu ga Gotoku Studios\" e soprattutto \"Double Fine Productions\", l'ultimo titolo è andato molto bene. Caso diverso per \"BioWare\", in quanto l'ultimo gioco è andato bene, ma sembrerebbe essere una riedizione di altri titoli, mentre l'ultimo titolo, ovvero \"Anthem\", risulta essere andato molto male."
   ]
  },
  {
   "cell_type": "markdown",
   "id": "802629fe-7deb-4a80-b685-cce0afad5c74",
   "metadata": {},
   "source": [
    "## ---------------------------------------------------------------------------------------------------"
   ]
  },
  {
   "cell_type": "markdown",
   "id": "9d30539f-35a0-456f-91d7-9a81373eea31",
   "metadata": {
    "jp-MarkdownHeadingCollapsed": true
   },
   "source": [
    "## Analisi sulla data"
   ]
  },
  {
   "cell_type": "markdown",
   "id": "21f5a600-994c-4221-8159-f3719d72df9b",
   "metadata": {},
   "source": [
    "### Distribuzione nel tempo, dei vari titoli, per data di uscita"
   ]
  },
  {
   "cell_type": "code",
   "execution_count": 35,
   "id": "b742de62-6c23-4ee9-a8ad-6ee283df1be7",
   "metadata": {
    "jupyter": {
     "source_hidden": true
    }
   },
   "outputs": [
    {
     "data": {
      "image/png": "[encoded data removed]",
      "text/plain": [
       "<Figure size 800x500 with 1 Axes>"
      ]
     },
     "metadata": {},
     "output_type": "display_data"
    }
   ],
   "source": [
    "\n",
    "df[\"Year\"] = df[\"Released_on\"].dt.year\n",
    "titoli_per_anno = df.groupby(\"Year\")[\"Titolo\"].count()\n",
    "\n",
    "titoli_per_anno.plot(kind=\"line\", x=\"Titolo\",y=\"Year\", figsize=(8, 5), marker='o', markersize=6)\n",
    "\n",
    "plt.title(\"Data di uscita dei titoli al lancio\", size=15)\n",
    "plt.xlabel(\"Anno\", size=12)\n",
    "plt.ylabel(\"Numero di titoli usciti\", size=12)\n",
    "\n",
    "plt.xticks(ticks=[int(year) for year in range(int(titoli_per_anno.index.min()), int(titoli_per_anno.index.max()) + 1, 2)])\n",
    "\n",
    "plt.grid()\n",
    "\n",
    "for x, y in zip(titoli_per_anno.index, titoli_per_anno):\n",
    "    plt.annotate(f'{y}', (x, y), textcoords=\"offset points\", xytext=(0,4), ha='center', fontsize=9, fontweight='bold')\n",
    "\n",
    "plt.show()"
   ]
  },
  {
   "cell_type": "markdown",
   "id": "dbeb747b-f320-4af3-93dd-37b29657ed25",
   "metadata": {},
   "source": [
    "#### Considerazioni: \n",
    "\n",
    " - Possiamo notare che nella libreria, i numeri dei titoli che sono stati rilasciati tra il 1996 al 2014, vanno da 1 titolo (esempio 1999) a 13 (nel 2014), poi abbiamo un continuo crescendo del numero, infatti abbiamo dal 2015 al 2016, 22 titoli per entrambi, altro picco che va dal 2017 al 2019 di circa 33 titoli. Nel 2020 ci sono stati ben 52 titoli, 2021 e 2022 sono stati più calanti, mentre il picco massimo è stato nel 2023, con ben 70 titoli rilasciati!, per poi perdere di quota nel 2024 (42 titoli).\n",
    " - I titoli pubblicati nell'anno scorso sono stati ben 42, quindi una media di 3,5 titoli al mese!\n",
    " - I titoli pubblicati prima del 2000 sono stati solo 11, mostrando come possibilmente preferite inserire, nel catalogo, titoli quanto più recenti (dato che dal 2017 fino al 2024, i valori sono più alti dei precedenti periodi).\n",
    " - Sembrebbe dunque una scelta precisa quella di inserire nel catalogo, tanti titoli appena usciti, sacrificando invece i titoli più datati, probabilmente per far leva su un pubblico più giovane."
   ]
  },
  {
   "cell_type": "markdown",
   "id": "6fa63946-9aef-41c3-8cc0-ffa746600485",
   "metadata": {},
   "source": [
    "## ---------------------------------------------------------------------------------------------------"
   ]
  },
  {
   "cell_type": "markdown",
   "id": "933890b8-fc4d-4318-a551-476ae3a346c3",
   "metadata": {
    "jp-MarkdownHeadingCollapsed": true
   },
   "source": [
    "## Analisi sui migliori e peggiori videogiochi, in base alle valutazioni"
   ]
  },
  {
   "cell_type": "markdown",
   "id": "139ee487-e951-4168-973d-962d399782f0",
   "metadata": {
    "jp-MarkdownHeadingCollapsed": true
   },
   "source": [
    "### Analisi sui migliori e peggiori videogiochi, in riferimento al dato \"Metascore\"."
   ]
  },
  {
   "cell_type": "markdown",
   "id": "3ce8f6ba-53d8-44a3-adfb-a55c1d42a71f",
   "metadata": {},
   "source": [
    "#### Analisi per capire i primi titoli che hanno un valore più alto e più basso (\"Metascore\"), in relazione alle recensioni ricevute (\"Metascore_reviews\")."
   ]
  },
  {
   "cell_type": "markdown",
   "id": "87094756-21ec-40b9-b338-bcac723a5f87",
   "metadata": {},
   "source": [
    "#### Possiamo pensare che i videogiochi con un alto valore da parte della critica (valutazione Metacritic), non hanno necessariamente tante recensioni (Metascore_reviews). Ciò porterebbe ad avere un dato non preciso riguardante la reale valutazione di un videogioco, in quanto è necessario avere tante recensioni, per un valore quanto più fedele alla realtà dei fatti."
   ]
  },
  {
   "cell_type": "markdown",
   "id": "4938058a-ea58-4428-a5ef-36a2107b33dd",
   "metadata": {},
   "source": [
    "##### Assegnamo un punteggio per ogni titolo, che tiene conto della valutazione e del numero di recensioni (colonna \"Punteggio_Ponderato\")."
   ]
  },
  {
   "cell_type": "code",
   "execution_count": 5,
   "id": "e15cd112-e8b1-4cde-9cb7-a58ac5f0c1fc",
   "metadata": {},
   "outputs": [],
   "source": []
  },
  {
   "cell_type": "code",
   "execution_count": 56,
   "id": "eb386a3d-a7d7-48a3-9f7c-a88f07087a95",
   "metadata": {
    "jupyter": {
     "source_hidden": true
    }
   },
   "outputs": [
    {
     "name": "stdout",
     "output_type": "stream",
     "text": [
      "\n",
      "I cinque migliori titoli:\n",
      "\n",
      "------------------------------------------------------------------\n",
      "\n",
      "Metascore\n"
     ]
    },
    {
     "data": {
      "text/html": [
       "<div>\n",
       "<style scoped>\n",
       "    .dataframe tbody tr th:only-of-type {\n",
       "        vertical-align: middle;\n",
       "    }\n",
       "\n",
       "    .dataframe tbody tr th {\n",
       "        vertical-align: top;\n",
       "    }\n",
       "\n",
       "    .dataframe thead th {\n",
       "        text-align: right;\n",
       "    }\n",
       "</style>\n",
       "<table border=\"1\" class=\"dataframe\">\n",
       "  <thead>\n",
       "    <tr style=\"text-align: right;\">\n",
       "      <th></th>\n",
       "      <th>Titolo</th>\n",
       "      <th>Metascore</th>\n",
       "      <th>Metascore_Reviews</th>\n",
       "      <th>Developer</th>\n",
       "      <th>Genres</th>\n",
       "      <th>Released_on</th>\n",
       "    </tr>\n",
       "  </thead>\n",
       "  <tbody>\n",
       "    <tr>\n",
       "      <th>1</th>\n",
       "      <td>Perfect Dark</td>\n",
       "      <td>97</td>\n",
       "      <td>30</td>\n",
       "      <td>Rare Ltd.</td>\n",
       "      <td>FPS</td>\n",
       "      <td>22/05/2000</td>\n",
       "    </tr>\n",
       "    <tr>\n",
       "      <th>2</th>\n",
       "      <td>GoldenEye 007</td>\n",
       "      <td>96</td>\n",
       "      <td>21</td>\n",
       "      <td>Rare Ltd.</td>\n",
       "      <td>FPS</td>\n",
       "      <td>25/08/1997</td>\n",
       "    </tr>\n",
       "    <tr>\n",
       "      <th>3</th>\n",
       "      <td>Mass Effect 2</td>\n",
       "      <td>96</td>\n",
       "      <td>98</td>\n",
       "      <td>BioWare</td>\n",
       "      <td>Western RPG</td>\n",
       "      <td>26/01/2010</td>\n",
       "    </tr>\n",
       "    <tr>\n",
       "      <th>4</th>\n",
       "      <td>Gears of War</td>\n",
       "      <td>94</td>\n",
       "      <td>88</td>\n",
       "      <td>Epic Games</td>\n",
       "      <td>Third Person Shooter</td>\n",
       "      <td>07/11/2006</td>\n",
       "    </tr>\n",
       "    <tr>\n",
       "      <th>5</th>\n",
       "      <td>Quake</td>\n",
       "      <td>94</td>\n",
       "      <td>9</td>\n",
       "      <td>id Software</td>\n",
       "      <td>FPS</td>\n",
       "      <td>22/06/1996</td>\n",
       "    </tr>\n",
       "  </tbody>\n",
       "</table>\n",
       "</div>"
      ],
      "text/plain": [
       "          Titolo  Metascore  Metascore_Reviews    Developer  \\\n",
       "1   Perfect Dark         97                 30    Rare Ltd.   \n",
       "2  GoldenEye 007         96                 21    Rare Ltd.   \n",
       "3  Mass Effect 2         96                 98      BioWare   \n",
       "4   Gears of War         94                 88   Epic Games   \n",
       "5          Quake         94                  9  id Software   \n",
       "\n",
       "                 Genres Released_on  \n",
       "1                   FPS  22/05/2000  \n",
       "2                   FPS  25/08/1997  \n",
       "3           Western RPG  26/01/2010  \n",
       "4  Third Person Shooter  07/11/2006  \n",
       "5                   FPS  22/06/1996  "
      ]
     },
     "metadata": {},
     "output_type": "display_data"
    },
    {
     "name": "stdout",
     "output_type": "stream",
     "text": [
      "\n",
      "Punteggio Ponderato\n"
     ]
    },
    {
     "data": {
      "text/html": [
       "<div>\n",
       "<style scoped>\n",
       "    .dataframe tbody tr th:only-of-type {\n",
       "        vertical-align: middle;\n",
       "    }\n",
       "\n",
       "    .dataframe tbody tr th {\n",
       "        vertical-align: top;\n",
       "    }\n",
       "\n",
       "    .dataframe thead th {\n",
       "        text-align: right;\n",
       "    }\n",
       "</style>\n",
       "<table border=\"1\" class=\"dataframe\">\n",
       "  <thead>\n",
       "    <tr style=\"text-align: right;\">\n",
       "      <th></th>\n",
       "      <th>Titolo</th>\n",
       "      <th>Punteggio_Ponderato</th>\n",
       "      <th>Metascore_Reviews</th>\n",
       "      <th>Developer</th>\n",
       "      <th>Genres</th>\n",
       "      <th>Released_on</th>\n",
       "    </tr>\n",
       "  </thead>\n",
       "  <tbody>\n",
       "    <tr>\n",
       "      <th>1</th>\n",
       "      <td>Mass Effect 2</td>\n",
       "      <td>95.03</td>\n",
       "      <td>98</td>\n",
       "      <td>BioWare</td>\n",
       "      <td>Western RPG</td>\n",
       "      <td>26/01/2010</td>\n",
       "    </tr>\n",
       "    <tr>\n",
       "      <th>2</th>\n",
       "      <td>Perfect Dark</td>\n",
       "      <td>93.87</td>\n",
       "      <td>30</td>\n",
       "      <td>Rare Ltd.</td>\n",
       "      <td>FPS</td>\n",
       "      <td>22/05/2000</td>\n",
       "    </tr>\n",
       "    <tr>\n",
       "      <th>3</th>\n",
       "      <td>The Elder Scrolls IV: Oblivion</td>\n",
       "      <td>92.97</td>\n",
       "      <td>90</td>\n",
       "      <td>Bethesda Game Studios</td>\n",
       "      <td>Western RPG</td>\n",
       "      <td>20/03/2006</td>\n",
       "    </tr>\n",
       "    <tr>\n",
       "      <th>4</th>\n",
       "      <td>Gears of War</td>\n",
       "      <td>92.94</td>\n",
       "      <td>88</td>\n",
       "      <td>Epic Games</td>\n",
       "      <td>Third Person Shooter</td>\n",
       "      <td>07/11/2006</td>\n",
       "    </tr>\n",
       "    <tr>\n",
       "      <th>5</th>\n",
       "      <td>Halo 3</td>\n",
       "      <td>92.92</td>\n",
       "      <td>86</td>\n",
       "      <td>Bungie</td>\n",
       "      <td>FPS</td>\n",
       "      <td>25/09/2007</td>\n",
       "    </tr>\n",
       "  </tbody>\n",
       "</table>\n",
       "</div>"
      ],
      "text/plain": [
       "                           Titolo  Punteggio_Ponderato  Metascore_Reviews  \\\n",
       "1                   Mass Effect 2                95.03                 98   \n",
       "2                    Perfect Dark                93.87                 30   \n",
       "3  The Elder Scrolls IV: Oblivion                92.97                 90   \n",
       "4                    Gears of War                92.94                 88   \n",
       "5                          Halo 3                92.92                 86   \n",
       "\n",
       "               Developer                Genres Released_on  \n",
       "1                BioWare           Western RPG  26/01/2010  \n",
       "2              Rare Ltd.                   FPS  22/05/2000  \n",
       "3  Bethesda Game Studios           Western RPG  20/03/2006  \n",
       "4             Epic Games  Third Person Shooter  07/11/2006  \n",
       "5                 Bungie                   FPS  25/09/2007  "
      ]
     },
     "metadata": {},
     "output_type": "display_data"
    },
    {
     "name": "stdout",
     "output_type": "stream",
     "text": [
      "------------------------------------------------------------------\n",
      "\n",
      "\n",
      "I cinque peggiori titoli:\n",
      "\n",
      "\n",
      "------------------------------------------------------------------\n",
      "\n",
      "Metascore\n"
     ]
    },
    {
     "data": {
      "text/html": [
       "<div>\n",
       "<style scoped>\n",
       "    .dataframe tbody tr th:only-of-type {\n",
       "        vertical-align: middle;\n",
       "    }\n",
       "\n",
       "    .dataframe tbody tr th {\n",
       "        vertical-align: top;\n",
       "    }\n",
       "\n",
       "    .dataframe thead th {\n",
       "        text-align: right;\n",
       "    }\n",
       "</style>\n",
       "<table border=\"1\" class=\"dataframe\">\n",
       "  <thead>\n",
       "    <tr style=\"text-align: right;\">\n",
       "      <th></th>\n",
       "      <th>Titolo</th>\n",
       "      <th>Metascore</th>\n",
       "      <th>Metascore_Reviews</th>\n",
       "      <th>Developer</th>\n",
       "      <th>Genres</th>\n",
       "      <th>Released_on</th>\n",
       "    </tr>\n",
       "  </thead>\n",
       "  <tbody>\n",
       "    <tr>\n",
       "      <th>1</th>\n",
       "      <td>DayZ</td>\n",
       "      <td>31</td>\n",
       "      <td>6</td>\n",
       "      <td>Dean 'Rocket' Hall</td>\n",
       "      <td>Survival</td>\n",
       "      <td>30/05/2019</td>\n",
       "    </tr>\n",
       "    <tr>\n",
       "      <th>2</th>\n",
       "      <td>Dead Space Ignition</td>\n",
       "      <td>35</td>\n",
       "      <td>26</td>\n",
       "      <td>Sumo Digital</td>\n",
       "      <td>Action Puzzle</td>\n",
       "      <td>13/10/2010</td>\n",
       "    </tr>\n",
       "    <tr>\n",
       "      <th>3</th>\n",
       "      <td>Generation Zero</td>\n",
       "      <td>51</td>\n",
       "      <td>31</td>\n",
       "      <td>Avalanche Studios</td>\n",
       "      <td>Open-World Action</td>\n",
       "      <td>26/03/2019</td>\n",
       "    </tr>\n",
       "    <tr>\n",
       "      <th>4</th>\n",
       "      <td>Fallout 76</td>\n",
       "      <td>52</td>\n",
       "      <td>49</td>\n",
       "      <td>Bethesda Game Studios</td>\n",
       "      <td>Western RPG</td>\n",
       "      <td>14/11/2018</td>\n",
       "    </tr>\n",
       "    <tr>\n",
       "      <th>5</th>\n",
       "      <td>Halo: Spartan Assault</td>\n",
       "      <td>53</td>\n",
       "      <td>28</td>\n",
       "      <td>343 Industries - Vanguard</td>\n",
       "      <td>Top-Down Shoot-'Em-Up</td>\n",
       "      <td>23/12/2013</td>\n",
       "    </tr>\n",
       "  </tbody>\n",
       "</table>\n",
       "</div>"
      ],
      "text/plain": [
       "                  Titolo  Metascore  Metascore_Reviews  \\\n",
       "1                   DayZ         31                  6   \n",
       "2    Dead Space Ignition         35                 26   \n",
       "3        Generation Zero         51                 31   \n",
       "4             Fallout 76         52                 49   \n",
       "5  Halo: Spartan Assault         53                 28   \n",
       "\n",
       "                   Developer                 Genres Released_on  \n",
       "1         Dean 'Rocket' Hall               Survival  30/05/2019  \n",
       "2               Sumo Digital          Action Puzzle  13/10/2010  \n",
       "3          Avalanche Studios      Open-World Action  26/03/2019  \n",
       "4      Bethesda Game Studios            Western RPG  14/11/2018  \n",
       "5  343 Industries - Vanguard  Top-Down Shoot-'Em-Up  23/12/2013  "
      ]
     },
     "metadata": {},
     "output_type": "display_data"
    },
    {
     "name": "stdout",
     "output_type": "stream",
     "text": [
      "\n",
      "Punteggio Ponderato\n"
     ]
    },
    {
     "data": {
      "text/html": [
       "<div>\n",
       "<style scoped>\n",
       "    .dataframe tbody tr th:only-of-type {\n",
       "        vertical-align: middle;\n",
       "    }\n",
       "\n",
       "    .dataframe tbody tr th {\n",
       "        vertical-align: top;\n",
       "    }\n",
       "\n",
       "    .dataframe thead th {\n",
       "        text-align: right;\n",
       "    }\n",
       "</style>\n",
       "<table border=\"1\" class=\"dataframe\">\n",
       "  <thead>\n",
       "    <tr style=\"text-align: right;\">\n",
       "      <th></th>\n",
       "      <th>Titolo</th>\n",
       "      <th>Punteggio_Ponderato</th>\n",
       "      <th>Metascore_Reviews</th>\n",
       "      <th>Developer</th>\n",
       "      <th>Genres</th>\n",
       "      <th>Released_on</th>\n",
       "    </tr>\n",
       "  </thead>\n",
       "  <tbody>\n",
       "    <tr>\n",
       "      <th>1</th>\n",
       "      <td>DayZ</td>\n",
       "      <td>26.57</td>\n",
       "      <td>6</td>\n",
       "      <td>Dean 'Rocket' Hall</td>\n",
       "      <td>Survival</td>\n",
       "      <td>30/05/2019</td>\n",
       "    </tr>\n",
       "    <tr>\n",
       "      <th>2</th>\n",
       "      <td>Dead Space Ignition</td>\n",
       "      <td>33.70</td>\n",
       "      <td>26</td>\n",
       "      <td>Sumo Digital</td>\n",
       "      <td>Action Puzzle</td>\n",
       "      <td>13/10/2010</td>\n",
       "    </tr>\n",
       "    <tr>\n",
       "      <th>3</th>\n",
       "      <td>Bluey: The Videogame</td>\n",
       "      <td>48.00</td>\n",
       "      <td>6</td>\n",
       "      <td>Artax Games</td>\n",
       "      <td>Action Adventure</td>\n",
       "      <td>17/11/2023</td>\n",
       "    </tr>\n",
       "    <tr>\n",
       "      <th>4</th>\n",
       "      <td>Generation Zero</td>\n",
       "      <td>49.41</td>\n",
       "      <td>31</td>\n",
       "      <td>Avalanche Studios</td>\n",
       "      <td>Open-World Action</td>\n",
       "      <td>26/03/2019</td>\n",
       "    </tr>\n",
       "    <tr>\n",
       "      <th>5</th>\n",
       "      <td>Homestead Arcana</td>\n",
       "      <td>49.60</td>\n",
       "      <td>4</td>\n",
       "      <td>Serenity Forge</td>\n",
       "      <td>Sandbox</td>\n",
       "      <td>21/04/2023</td>\n",
       "    </tr>\n",
       "  </tbody>\n",
       "</table>\n",
       "</div>"
      ],
      "text/plain": [
       "                 Titolo  Punteggio_Ponderato  Metascore_Reviews  \\\n",
       "1                  DayZ                26.57                  6   \n",
       "2   Dead Space Ignition                33.70                 26   \n",
       "3  Bluey: The Videogame                48.00                  6   \n",
       "4       Generation Zero                49.41                 31   \n",
       "5      Homestead Arcana                49.60                  4   \n",
       "\n",
       "            Developer             Genres Released_on  \n",
       "1  Dean 'Rocket' Hall           Survival  30/05/2019  \n",
       "2        Sumo Digital      Action Puzzle  13/10/2010  \n",
       "3         Artax Games   Action Adventure  17/11/2023  \n",
       "4   Avalanche Studios  Open-World Action  26/03/2019  \n",
       "5      Serenity Forge            Sandbox  21/04/2023  "
      ]
     },
     "metadata": {},
     "output_type": "display_data"
    }
   ],
   "source": [
    "\n",
    "\n",
    "valutazioni = df_no_nulli.copy()\n",
    "valutazioni[\"Punteggio_Ponderato\"] = round((valutazioni['Metascore'] * valutazioni['Metascore_Reviews']) / (valutazioni['Metascore_Reviews'] + 1), 2)\n",
    "\n",
    "print(\"\\nI cinque migliori titoli:\\n\")\n",
    "print(\"-\" * 66)\n",
    "\n",
    "print(\"\\nMetascore\")\n",
    "display(df_no_nulli.sort_values(by=\"Metascore\",ascending=False)[[\"Titolo\",\"Metascore\",\"Metascore_Reviews\",\"Developer\",\"Genres\",\"Released_on\"]].head(5).reset_index(drop=True).set_index(pd.Index(range(1, 6))))\n",
    "print(\"\\nPunteggio Ponderato\")\n",
    "display(valutazioni.sort_values(by=\"Punteggio_Ponderato\",ascending=False)[[\"Titolo\",\"Punteggio_Ponderato\",\"Metascore_Reviews\",\"Developer\",\"Genres\",\"Released_on\"]].head(5).reset_index(drop=True).set_index(pd.Index(range(1, 6))))\n",
    "print(\"-\" * 66)\n",
    "print(\"\\n\\nI cinque peggiori titoli:\\n\\n\")\n",
    "print(\"-\" * 66)\n",
    "\n",
    "print(\"\\nMetascore\")\n",
    "display(df_no_nulli.sort_values(by=\"Metascore\")[[\"Titolo\",\"Metascore\",\"Metascore_Reviews\",\"Developer\",\"Genres\",\"Released_on\"]].head(5).reset_index(drop=True).set_index(pd.Index(range(1, 6))))\n",
    "print(\"\\nPunteggio Ponderato\")\n",
    "display(valutazioni.sort_values(by=\"Punteggio_Ponderato\")[[\"Titolo\",\"Punteggio_Ponderato\",\"Metascore_Reviews\",\"Developer\",\"Genres\",\"Released_on\"]].head(5).reset_index(drop=True).set_index(pd.Index(range(1, 6))))"
   ]
  },
  {
   "cell_type": "markdown",
   "id": "48287e57-6618-47d2-a471-eef220f68bc3",
   "metadata": {},
   "source": [
    "##### I risultati del confronto tra il valore \"Metascore\", e il calcolo del \"Punteggio Ponderato\": \n",
    "#####\n",
    "Nei migliori videogiochi:\n",
    "\n",
    " - Il primo posto cambia, diventando \"Mass Effect 2\" il migliore del catalogo GamePass;\n",
    " - \"Quake 2\" e \"GoldenEye 007\" non appaiono, facendo posto invece a \"The Elder Scrolls IV: Oblivion\" e \"Halo 3\";\n",
    " - Il dato più importante è che \"GoldenEye 007\" esce dalla lista, nonostante sia il secondo con più \"Metascore\".\n",
    "\n",
    "Nei peggiori videogiochi:\n",
    "\n",
    " - \"DayZ\" rimane in prima posizione in entrambe le liste, fortificando in fatto che sia il peggior gioco del catalogo;\n",
    " - \"Dead Space Ignition\" rimane ancorato in seconda posizione per entrambe le liste;\n",
    " - \"Generation Zero\", dalla terza posizione passa alla quarta, facendo posto a \"Bluey: The Videogame\";\n",
    " - \"Fallout 76\" esce dalla lista;\n",
    " - \"Halo: Spartan Assault\" esce dalla lista, facendo spazio a \"Homestead Arcana\".\n",
    "\n",
    "-------------------------------------------------------------------------------------------------------------------------\n",
    "\n",
    "Altre considerazioni: \n",
    "\n",
    "Nei migliori videogiochi:\n",
    "\n",
    " - La valutazione della critica, si aggira tra il 94 e il 97;\n",
    " - Il \"punteggio ponderato\", si aggira tra il 92 e il 95;\n",
    " - Per quanto riguarda il dato ponderato, 3/5 giochi, sono stati rilasciati tra il 2006 e il 2007, mentre per il Metascore, i dati sono un pò misti;\n",
    " - I generi più amati sono gli: \"FPS\" e i \"Western RPG\";\n",
    " - Gli sviluppatori più apprezzati sono quelli del team: \"Rare Ltd.\".\n",
    "\n",
    "Nei peggiori videogiochi:\n",
    "\n",
    " - La valutazione della critica, si aggira tra il 31 e il 53;\n",
    " - Il \"punteggio ponderato\", si aggira tra il 26 e il 49;\n",
    " - Per quanto riguarda il dato del Metascore, 3/5 giochi sono usciti tra il 2018 e il 2019, mentre per il dato ponderato, sono stati rilasciati due nel 2019 e due nel 2023;\n",
    " - I generi più odiati sono gli Action, anche se hanno dei sottogeneri diversi.\n",
    " - Non c'è un dato rilevante, relativo a gli sviluppatori meno apprezzati."
   ]
  },
  {
   "cell_type": "markdown",
   "id": "088465b7-5a24-4208-909c-799664430f4c",
   "metadata": {},
   "source": [
    "### Analisi sui migliori e peggiori videogiochi, in riferimento al dato \"User_Score\"."
   ]
  },
  {
   "cell_type": "markdown",
   "id": "4942a3ae-2795-42e8-8b2d-e95b5e22a477",
   "metadata": {},
   "source": [
    "#### Il videogioco con il valore più alto."
   ]
  },
  {
   "cell_type": "code",
   "execution_count": 57,
   "id": "7bfc6597-8146-4b01-9856-c3946f51a4aa",
   "metadata": {
    "jupyter": {
     "source_hidden": true
    }
   },
   "outputs": [
    {
     "data": {
      "text/html": [
       "<div>\n",
       "<style scoped>\n",
       "    .dataframe tbody tr th:only-of-type {\n",
       "        vertical-align: middle;\n",
       "    }\n",
       "\n",
       "    .dataframe tbody tr th {\n",
       "        vertical-align: top;\n",
       "    }\n",
       "\n",
       "    .dataframe thead th {\n",
       "        text-align: right;\n",
       "    }\n",
       "</style>\n",
       "<table border=\"1\" class=\"dataframe\">\n",
       "  <thead>\n",
       "    <tr style=\"text-align: right;\">\n",
       "      <th></th>\n",
       "      <th>Titolo</th>\n",
       "      <th>Metascore</th>\n",
       "      <th>Metascore_Reviews</th>\n",
       "      <th>User_Score</th>\n",
       "      <th>Developer</th>\n",
       "      <th>Genres</th>\n",
       "      <th>Released_on</th>\n",
       "    </tr>\n",
       "  </thead>\n",
       "  <tbody>\n",
       "    <tr>\n",
       "      <th>156</th>\n",
       "      <td>Fallout 2</td>\n",
       "      <td>86</td>\n",
       "      <td>15</td>\n",
       "      <td>91</td>\n",
       "      <td>Black Isle Studios</td>\n",
       "      <td>Western RPG</td>\n",
       "      <td>29/10/1998</td>\n",
       "    </tr>\n",
       "  </tbody>\n",
       "</table>\n",
       "</div>"
      ],
      "text/plain": [
       "        Titolo  Metascore  Metascore_Reviews  User_Score           Developer  \\\n",
       "156  Fallout 2         86                 15          91  Black Isle Studios   \n",
       "\n",
       "          Genres Released_on  \n",
       "156  Western RPG  29/10/1998  "
      ]
     },
     "execution_count": 57,
     "metadata": {},
     "output_type": "execute_result"
    }
   ],
   "source": [
    "\n",
    "df_no_nulli.sort_values(by=\"User_Score\",ascending=False).head(1)"
   ]
  },
  {
   "cell_type": "markdown",
   "id": "65780568-5122-4d3f-8ee7-64b14199b707",
   "metadata": {},
   "source": [
    "#### Il videogioco con il valore più alto."
   ]
  },
  {
   "cell_type": "code",
   "execution_count": 60,
   "id": "4b2dcc34-5f3f-4a06-abef-7afb99bfd3a0",
   "metadata": {
    "jupyter": {
     "source_hidden": true
    }
   },
   "outputs": [
    {
     "data": {
      "text/html": [
       "<div>\n",
       "<style scoped>\n",
       "    .dataframe tbody tr th:only-of-type {\n",
       "        vertical-align: middle;\n",
       "    }\n",
       "\n",
       "    .dataframe tbody tr th {\n",
       "        vertical-align: top;\n",
       "    }\n",
       "\n",
       "    .dataframe thead th {\n",
       "        text-align: right;\n",
       "    }\n",
       "</style>\n",
       "<table border=\"1\" class=\"dataframe\">\n",
       "  <thead>\n",
       "    <tr style=\"text-align: right;\">\n",
       "      <th></th>\n",
       "      <th>Titolo</th>\n",
       "      <th>Metascore</th>\n",
       "      <th>Metascore_Reviews</th>\n",
       "      <th>User_Score</th>\n",
       "      <th>Developer</th>\n",
       "      <th>Genres</th>\n",
       "      <th>Released_on</th>\n",
       "    </tr>\n",
       "  </thead>\n",
       "  <tbody>\n",
       "    <tr>\n",
       "      <th>274</th>\n",
       "      <td>Madden NFL 23</td>\n",
       "      <td>69</td>\n",
       "      <td>31</td>\n",
       "      <td>16</td>\n",
       "      <td>EA Tiburon</td>\n",
       "      <td>Football Sim</td>\n",
       "      <td>16/08/2022</td>\n",
       "    </tr>\n",
       "  </tbody>\n",
       "</table>\n",
       "</div>"
      ],
      "text/plain": [
       "            Titolo  Metascore  Metascore_Reviews  User_Score   Developer  \\\n",
       "274  Madden NFL 23         69                 31          16  EA Tiburon   \n",
       "\n",
       "           Genres Released_on  \n",
       "274  Football Sim  16/08/2022  "
      ]
     },
     "execution_count": 60,
     "metadata": {},
     "output_type": "execute_result"
    }
   ],
   "source": [
    "\n",
    "df_no_nulli.sort_values(by=\"User_Score\").head(1)"
   ]
  },
  {
   "cell_type": "markdown",
   "id": "69f1c802-4619-4687-a76c-b0e0418483d7",
   "metadata": {},
   "source": [
    "#### I cinque migliori videogiochi, con i valori più alti."
   ]
  },
  {
   "cell_type": "code",
   "execution_count": 61,
   "id": "92847932-91cf-4d33-bf60-a78e5ae0d715",
   "metadata": {
    "jupyter": {
     "source_hidden": true
    }
   },
   "outputs": [
    {
     "data": {
      "text/html": [
       "<div>\n",
       "<style scoped>\n",
       "    .dataframe tbody tr th:only-of-type {\n",
       "        vertical-align: middle;\n",
       "    }\n",
       "\n",
       "    .dataframe tbody tr th {\n",
       "        vertical-align: top;\n",
       "    }\n",
       "\n",
       "    .dataframe thead th {\n",
       "        text-align: right;\n",
       "    }\n",
       "</style>\n",
       "<table border=\"1\" class=\"dataframe\">\n",
       "  <thead>\n",
       "    <tr style=\"text-align: right;\">\n",
       "      <th></th>\n",
       "      <th>Titolo</th>\n",
       "      <th>Metascore</th>\n",
       "      <th>Metascore_Reviews</th>\n",
       "      <th>User_Score</th>\n",
       "      <th>Developer</th>\n",
       "      <th>Genres</th>\n",
       "      <th>Released_on</th>\n",
       "    </tr>\n",
       "  </thead>\n",
       "  <tbody>\n",
       "    <tr>\n",
       "      <th>156</th>\n",
       "      <td>Fallout 2</td>\n",
       "      <td>86</td>\n",
       "      <td>15</td>\n",
       "      <td>91</td>\n",
       "      <td>Black Isle Studios</td>\n",
       "      <td>Western RPG</td>\n",
       "      <td>29/10/1998</td>\n",
       "    </tr>\n",
       "    <tr>\n",
       "      <th>26</th>\n",
       "      <td>Banjo-Kazooie</td>\n",
       "      <td>92</td>\n",
       "      <td>19</td>\n",
       "      <td>91</td>\n",
       "      <td>Rare Ltd.</td>\n",
       "      <td>3D Platformer</td>\n",
       "      <td>29/06/1998</td>\n",
       "    </tr>\n",
       "    <tr>\n",
       "      <th>201</th>\n",
       "      <td>GoldenEye 007</td>\n",
       "      <td>96</td>\n",
       "      <td>21</td>\n",
       "      <td>89</td>\n",
       "      <td>Rare Ltd.</td>\n",
       "      <td>FPS</td>\n",
       "      <td>25/08/1997</td>\n",
       "    </tr>\n",
       "    <tr>\n",
       "      <th>227</th>\n",
       "      <td>Hi-Fi Rush</td>\n",
       "      <td>87</td>\n",
       "      <td>63</td>\n",
       "      <td>89</td>\n",
       "      <td>Tango Gameworks</td>\n",
       "      <td>Action Adventure</td>\n",
       "      <td>25/01/2023</td>\n",
       "    </tr>\n",
       "    <tr>\n",
       "      <th>282</th>\n",
       "      <td>Mass Effect 2</td>\n",
       "      <td>96</td>\n",
       "      <td>98</td>\n",
       "      <td>89</td>\n",
       "      <td>BioWare</td>\n",
       "      <td>Western RPG</td>\n",
       "      <td>26/01/2010</td>\n",
       "    </tr>\n",
       "  </tbody>\n",
       "</table>\n",
       "</div>"
      ],
      "text/plain": [
       "            Titolo  Metascore  Metascore_Reviews  User_Score  \\\n",
       "156      Fallout 2         86                 15          91   \n",
       "26   Banjo-Kazooie         92                 19          91   \n",
       "201  GoldenEye 007         96                 21          89   \n",
       "227     Hi-Fi Rush         87                 63          89   \n",
       "282  Mass Effect 2         96                 98          89   \n",
       "\n",
       "              Developer            Genres Released_on  \n",
       "156  Black Isle Studios       Western RPG  29/10/1998  \n",
       "26            Rare Ltd.     3D Platformer  29/06/1998  \n",
       "201           Rare Ltd.               FPS  25/08/1997  \n",
       "227     Tango Gameworks  Action Adventure  25/01/2023  \n",
       "282             BioWare       Western RPG  26/01/2010  "
      ]
     },
     "execution_count": 61,
     "metadata": {},
     "output_type": "execute_result"
    }
   ],
   "source": [
    "\n",
    "df_no_nulli.sort_values(by=\"User_Score\",ascending=False).head(5)"
   ]
  },
  {
   "cell_type": "markdown",
   "id": "dc203a5e-3e33-4547-b988-4271396ef39f",
   "metadata": {},
   "source": [
    "#### I cinque peggiori videogiochi, con i valori più bassi."
   ]
  },
  {
   "cell_type": "code",
   "execution_count": 62,
   "id": "e61c50ed-c8dc-4de3-a293-12f8c5b3d1a4",
   "metadata": {
    "jupyter": {
     "source_hidden": true
    }
   },
   "outputs": [
    {
     "data": {
      "text/html": [
       "<div>\n",
       "<style scoped>\n",
       "    .dataframe tbody tr th:only-of-type {\n",
       "        vertical-align: middle;\n",
       "    }\n",
       "\n",
       "    .dataframe tbody tr th {\n",
       "        vertical-align: top;\n",
       "    }\n",
       "\n",
       "    .dataframe thead th {\n",
       "        text-align: right;\n",
       "    }\n",
       "</style>\n",
       "<table border=\"1\" class=\"dataframe\">\n",
       "  <thead>\n",
       "    <tr style=\"text-align: right;\">\n",
       "      <th></th>\n",
       "      <th>Titolo</th>\n",
       "      <th>Metascore</th>\n",
       "      <th>Metascore_Reviews</th>\n",
       "      <th>User_Score</th>\n",
       "      <th>Developer</th>\n",
       "      <th>Genres</th>\n",
       "      <th>Released_on</th>\n",
       "    </tr>\n",
       "  </thead>\n",
       "  <tbody>\n",
       "    <tr>\n",
       "      <th>274</th>\n",
       "      <td>Madden NFL 23</td>\n",
       "      <td>69</td>\n",
       "      <td>31</td>\n",
       "      <td>16</td>\n",
       "      <td>EA Tiburon</td>\n",
       "      <td>Football Sim</td>\n",
       "      <td>16/08/2022</td>\n",
       "    </tr>\n",
       "    <tr>\n",
       "      <th>275</th>\n",
       "      <td>Madden NFL 24</td>\n",
       "      <td>65</td>\n",
       "      <td>22</td>\n",
       "      <td>17</td>\n",
       "      <td>EA Tiburon</td>\n",
       "      <td>Football Sim</td>\n",
       "      <td>18/08/2023</td>\n",
       "    </tr>\n",
       "    <tr>\n",
       "      <th>436</th>\n",
       "      <td>Star Wars Battlefront II</td>\n",
       "      <td>68</td>\n",
       "      <td>67</td>\n",
       "      <td>18</td>\n",
       "      <td>EA DICE</td>\n",
       "      <td>Tactical FPS</td>\n",
       "      <td>14/11/2017</td>\n",
       "    </tr>\n",
       "    <tr>\n",
       "      <th>57</th>\n",
       "      <td>Call of Duty: Modern Warfare III</td>\n",
       "      <td>56</td>\n",
       "      <td>71</td>\n",
       "      <td>22</td>\n",
       "      <td>Sledgehammer Games</td>\n",
       "      <td>Tactical FPS</td>\n",
       "      <td>10/11/2023</td>\n",
       "    </tr>\n",
       "    <tr>\n",
       "      <th>479</th>\n",
       "      <td>UFC 4</td>\n",
       "      <td>78</td>\n",
       "      <td>47</td>\n",
       "      <td>22</td>\n",
       "      <td>EA Vancouver</td>\n",
       "      <td>Combat Sport</td>\n",
       "      <td>14/08/2020</td>\n",
       "    </tr>\n",
       "  </tbody>\n",
       "</table>\n",
       "</div>"
      ],
      "text/plain": [
       "                               Titolo  Metascore  Metascore_Reviews  \\\n",
       "274                     Madden NFL 23         69                 31   \n",
       "275                     Madden NFL 24         65                 22   \n",
       "436          Star Wars Battlefront II         68                 67   \n",
       "57   Call of Duty: Modern Warfare III         56                 71   \n",
       "479                             UFC 4         78                 47   \n",
       "\n",
       "     User_Score           Developer        Genres Released_on  \n",
       "274          16          EA Tiburon  Football Sim  16/08/2022  \n",
       "275          17          EA Tiburon  Football Sim  18/08/2023  \n",
       "436          18             EA DICE  Tactical FPS  14/11/2017  \n",
       "57           22  Sledgehammer Games  Tactical FPS  10/11/2023  \n",
       "479          22        EA Vancouver  Combat Sport  14/08/2020  "
      ]
     },
     "execution_count": 62,
     "metadata": {},
     "output_type": "execute_result"
    }
   ],
   "source": [
    "\n",
    "df_no_nulli.sort_values(by=\"User_Score\").head(5)"
   ]
  },
  {
   "cell_type": "markdown",
   "id": "2178bfbc-541e-409b-a131-7b31ff2eee7a",
   "metadata": {},
   "source": [
    "### Confronto tra le valutazioni della critica e la valutazione degli utenti."
   ]
  },
  {
   "cell_type": "code",
   "execution_count": 63,
   "id": "8142b8e4-d249-4917-ad79-efd10ea5c299",
   "metadata": {
    "jupyter": {
     "source_hidden": true
    }
   },
   "outputs": [
    {
     "name": "stdout",
     "output_type": "stream",
     "text": [
      "\n",
      "I cinque migliori titoli:\n",
      "\n",
      "------------------------------------------------------------------\n",
      "\n",
      "Metascore\n"
     ]
    },
    {
     "data": {
      "text/html": [
       "<div>\n",
       "<style scoped>\n",
       "    .dataframe tbody tr th:only-of-type {\n",
       "        vertical-align: middle;\n",
       "    }\n",
       "\n",
       "    .dataframe tbody tr th {\n",
       "        vertical-align: top;\n",
       "    }\n",
       "\n",
       "    .dataframe thead th {\n",
       "        text-align: right;\n",
       "    }\n",
       "</style>\n",
       "<table border=\"1\" class=\"dataframe\">\n",
       "  <thead>\n",
       "    <tr style=\"text-align: right;\">\n",
       "      <th></th>\n",
       "      <th>Titolo</th>\n",
       "      <th>Metascore</th>\n",
       "    </tr>\n",
       "  </thead>\n",
       "  <tbody>\n",
       "    <tr>\n",
       "      <th>1</th>\n",
       "      <td>Perfect Dark</td>\n",
       "      <td>97</td>\n",
       "    </tr>\n",
       "    <tr>\n",
       "      <th>2</th>\n",
       "      <td>GoldenEye 007</td>\n",
       "      <td>96</td>\n",
       "    </tr>\n",
       "    <tr>\n",
       "      <th>3</th>\n",
       "      <td>Mass Effect 2</td>\n",
       "      <td>96</td>\n",
       "    </tr>\n",
       "    <tr>\n",
       "      <th>4</th>\n",
       "      <td>Gears of War</td>\n",
       "      <td>94</td>\n",
       "    </tr>\n",
       "    <tr>\n",
       "      <th>5</th>\n",
       "      <td>Quake</td>\n",
       "      <td>94</td>\n",
       "    </tr>\n",
       "  </tbody>\n",
       "</table>\n",
       "</div>"
      ],
      "text/plain": [
       "          Titolo  Metascore\n",
       "1   Perfect Dark         97\n",
       "2  GoldenEye 007         96\n",
       "3  Mass Effect 2         96\n",
       "4   Gears of War         94\n",
       "5          Quake         94"
      ]
     },
     "metadata": {},
     "output_type": "display_data"
    },
    {
     "name": "stdout",
     "output_type": "stream",
     "text": [
      "\n",
      "User_Score\n"
     ]
    },
    {
     "data": {
      "text/html": [
       "<div>\n",
       "<style scoped>\n",
       "    .dataframe tbody tr th:only-of-type {\n",
       "        vertical-align: middle;\n",
       "    }\n",
       "\n",
       "    .dataframe tbody tr th {\n",
       "        vertical-align: top;\n",
       "    }\n",
       "\n",
       "    .dataframe thead th {\n",
       "        text-align: right;\n",
       "    }\n",
       "</style>\n",
       "<table border=\"1\" class=\"dataframe\">\n",
       "  <thead>\n",
       "    <tr style=\"text-align: right;\">\n",
       "      <th></th>\n",
       "      <th>Titolo</th>\n",
       "      <th>User_Score</th>\n",
       "    </tr>\n",
       "  </thead>\n",
       "  <tbody>\n",
       "    <tr>\n",
       "      <th>1</th>\n",
       "      <td>Fallout 2</td>\n",
       "      <td>91</td>\n",
       "    </tr>\n",
       "    <tr>\n",
       "      <th>2</th>\n",
       "      <td>Banjo-Kazooie</td>\n",
       "      <td>91</td>\n",
       "    </tr>\n",
       "    <tr>\n",
       "      <th>3</th>\n",
       "      <td>GoldenEye 007</td>\n",
       "      <td>89</td>\n",
       "    </tr>\n",
       "    <tr>\n",
       "      <th>4</th>\n",
       "      <td>Hi-Fi Rush</td>\n",
       "      <td>89</td>\n",
       "    </tr>\n",
       "    <tr>\n",
       "      <th>5</th>\n",
       "      <td>Mass Effect 2</td>\n",
       "      <td>89</td>\n",
       "    </tr>\n",
       "  </tbody>\n",
       "</table>\n",
       "</div>"
      ],
      "text/plain": [
       "          Titolo  User_Score\n",
       "1      Fallout 2          91\n",
       "2  Banjo-Kazooie          91\n",
       "3  GoldenEye 007          89\n",
       "4     Hi-Fi Rush          89\n",
       "5  Mass Effect 2          89"
      ]
     },
     "metadata": {},
     "output_type": "display_data"
    },
    {
     "name": "stdout",
     "output_type": "stream",
     "text": [
      "------------------------------------------------------------------\n",
      "\n",
      "\n",
      "I cinque peggiori titoli:\n",
      "\n",
      "\n",
      "------------------------------------------------------------------\n",
      "\n",
      "Metascore\n"
     ]
    },
    {
     "data": {
      "text/html": [
       "<div>\n",
       "<style scoped>\n",
       "    .dataframe tbody tr th:only-of-type {\n",
       "        vertical-align: middle;\n",
       "    }\n",
       "\n",
       "    .dataframe tbody tr th {\n",
       "        vertical-align: top;\n",
       "    }\n",
       "\n",
       "    .dataframe thead th {\n",
       "        text-align: right;\n",
       "    }\n",
       "</style>\n",
       "<table border=\"1\" class=\"dataframe\">\n",
       "  <thead>\n",
       "    <tr style=\"text-align: right;\">\n",
       "      <th></th>\n",
       "      <th>Titolo</th>\n",
       "      <th>Metascore</th>\n",
       "    </tr>\n",
       "  </thead>\n",
       "  <tbody>\n",
       "    <tr>\n",
       "      <th>1</th>\n",
       "      <td>DayZ</td>\n",
       "      <td>31</td>\n",
       "    </tr>\n",
       "    <tr>\n",
       "      <th>2</th>\n",
       "      <td>Dead Space Ignition</td>\n",
       "      <td>35</td>\n",
       "    </tr>\n",
       "    <tr>\n",
       "      <th>3</th>\n",
       "      <td>Generation Zero</td>\n",
       "      <td>51</td>\n",
       "    </tr>\n",
       "    <tr>\n",
       "      <th>4</th>\n",
       "      <td>Fallout 76</td>\n",
       "      <td>52</td>\n",
       "    </tr>\n",
       "    <tr>\n",
       "      <th>5</th>\n",
       "      <td>Halo: Spartan Assault</td>\n",
       "      <td>53</td>\n",
       "    </tr>\n",
       "  </tbody>\n",
       "</table>\n",
       "</div>"
      ],
      "text/plain": [
       "                  Titolo  Metascore\n",
       "1                   DayZ         31\n",
       "2    Dead Space Ignition         35\n",
       "3        Generation Zero         51\n",
       "4             Fallout 76         52\n",
       "5  Halo: Spartan Assault         53"
      ]
     },
     "metadata": {},
     "output_type": "display_data"
    },
    {
     "name": "stdout",
     "output_type": "stream",
     "text": [
      "\n",
      "User_Score\n"
     ]
    },
    {
     "data": {
      "text/html": [
       "<div>\n",
       "<style scoped>\n",
       "    .dataframe tbody tr th:only-of-type {\n",
       "        vertical-align: middle;\n",
       "    }\n",
       "\n",
       "    .dataframe tbody tr th {\n",
       "        vertical-align: top;\n",
       "    }\n",
       "\n",
       "    .dataframe thead th {\n",
       "        text-align: right;\n",
       "    }\n",
       "</style>\n",
       "<table border=\"1\" class=\"dataframe\">\n",
       "  <thead>\n",
       "    <tr style=\"text-align: right;\">\n",
       "      <th></th>\n",
       "      <th>Titolo</th>\n",
       "      <th>User_Score</th>\n",
       "    </tr>\n",
       "  </thead>\n",
       "  <tbody>\n",
       "    <tr>\n",
       "      <th>1</th>\n",
       "      <td>Madden NFL 23</td>\n",
       "      <td>16</td>\n",
       "    </tr>\n",
       "    <tr>\n",
       "      <th>2</th>\n",
       "      <td>Madden NFL 24</td>\n",
       "      <td>17</td>\n",
       "    </tr>\n",
       "    <tr>\n",
       "      <th>3</th>\n",
       "      <td>Star Wars Battlefront II</td>\n",
       "      <td>18</td>\n",
       "    </tr>\n",
       "    <tr>\n",
       "      <th>4</th>\n",
       "      <td>Call of Duty: Modern Warfare III</td>\n",
       "      <td>22</td>\n",
       "    </tr>\n",
       "    <tr>\n",
       "      <th>5</th>\n",
       "      <td>UFC 4</td>\n",
       "      <td>22</td>\n",
       "    </tr>\n",
       "  </tbody>\n",
       "</table>\n",
       "</div>"
      ],
      "text/plain": [
       "                             Titolo  User_Score\n",
       "1                     Madden NFL 23          16\n",
       "2                     Madden NFL 24          17\n",
       "3          Star Wars Battlefront II          18\n",
       "4  Call of Duty: Modern Warfare III          22\n",
       "5                             UFC 4          22"
      ]
     },
     "metadata": {},
     "output_type": "display_data"
    }
   ],
   "source": [
    "\n",
    "print(\"\\nI cinque migliori titoli:\\n\")\n",
    "print(\"-\" * 66)\n",
    "\n",
    "print(\"\\nMetascore\")\n",
    "display(df_no_nulli.sort_values(by=\"Metascore\",ascending=False)[[\"Titolo\",\"Metascore\"]].head(5).reset_index(drop=True).set_index(pd.Index(range(1, 6))))\n",
    "print(\"\\nUser_Score\")\n",
    "display(df_no_nulli.sort_values(by=\"User_Score\",ascending=False)[[\"Titolo\",\"User_Score\"]].head(5).reset_index(drop=True).set_index(pd.Index(range(1, 6))))\n",
    "print(\"-\" * 66)\n",
    "print(\"\\n\\nI cinque peggiori titoli:\\n\\n\")\n",
    "print(\"-\" * 66)\n",
    "\n",
    "print(\"\\nMetascore\")\n",
    "display(df_no_nulli.sort_values(by=\"Metascore\")[[\"Titolo\",\"Metascore\"]].head(5).reset_index(drop=True).set_index(pd.Index(range(1, 6))))\n",
    "print(\"\\nUser_Score\")\n",
    "display(df_no_nulli.sort_values(by=\"User_Score\")[[\"Titolo\",\"User_Score\"]].head(5).reset_index(drop=True).set_index(pd.Index(range(1, 6))))"
   ]
  },
  {
   "cell_type": "markdown",
   "id": "371e892d-c918-4ac9-8844-22604e32a2a2",
   "metadata": {},
   "source": [
    "#### I cinque migliori e peggiori titoli, considerando la MEDIA tra Metascore e valutazione utenti:"
   ]
  },
  {
   "cell_type": "code",
   "execution_count": 84,
   "id": "ee1ff0f0-2d3e-43af-8c27-f2c864f1906f",
   "metadata": {
    "jupyter": {
     "source_hidden": true
    },
    "scrolled": true
   },
   "outputs": [],
   "source": [
    "\n",
    "# Calcoliamo la media di ogni titolo, creando un valore nominato \"Media_Critica_Utenti\", \n",
    "# che tiene conto della valutazione \"Metascore\" e  della valutazione degli utenti \"User_Score\".\n",
    "\n",
    "media = []\n",
    "\n",
    "for x in range(len(df_no_nulli[\"Metascore\"])):\n",
    "    media.append((df_no_nulli[\"Metascore\"][x] + df_no_nulli[\"User_Score\"][x])/2)\n",
    "\n",
    "valutazioni[\"Media_Critica/Utenti\"] = media"
   ]
  },
  {
   "cell_type": "code",
   "execution_count": 85,
   "id": "7d20144f-cad7-4ffc-9d42-5fc3035a6e90",
   "metadata": {
    "jupyter": {
     "source_hidden": true
    }
   },
   "outputs": [
    {
     "name": "stdout",
     "output_type": "stream",
     "text": [
      "\n",
      "I cinque migliori titoli:\n",
      "\n",
      "------------------------------------------------------------------\n"
     ]
    },
    {
     "data": {
      "text/html": [
       "<div>\n",
       "<style scoped>\n",
       "    .dataframe tbody tr th:only-of-type {\n",
       "        vertical-align: middle;\n",
       "    }\n",
       "\n",
       "    .dataframe tbody tr th {\n",
       "        vertical-align: top;\n",
       "    }\n",
       "\n",
       "    .dataframe thead th {\n",
       "        text-align: right;\n",
       "    }\n",
       "</style>\n",
       "<table border=\"1\" class=\"dataframe\">\n",
       "  <thead>\n",
       "    <tr style=\"text-align: right;\">\n",
       "      <th></th>\n",
       "      <th>Titolo</th>\n",
       "      <th>Metascore</th>\n",
       "      <th>User_Score</th>\n",
       "      <th>Media_Critica/Utenti</th>\n",
       "      <th>Developer</th>\n",
       "      <th>Genres</th>\n",
       "      <th>Released_on</th>\n",
       "    </tr>\n",
       "  </thead>\n",
       "  <tbody>\n",
       "    <tr>\n",
       "      <th>1</th>\n",
       "      <td>Mass Effect 2</td>\n",
       "      <td>96</td>\n",
       "      <td>89</td>\n",
       "      <td>92.5</td>\n",
       "      <td>BioWare</td>\n",
       "      <td>Western RPG</td>\n",
       "      <td>26/01/2010</td>\n",
       "    </tr>\n",
       "    <tr>\n",
       "      <th>2</th>\n",
       "      <td>GoldenEye 007</td>\n",
       "      <td>96</td>\n",
       "      <td>89</td>\n",
       "      <td>92.5</td>\n",
       "      <td>Rare Ltd.</td>\n",
       "      <td>FPS</td>\n",
       "      <td>25/08/1997</td>\n",
       "    </tr>\n",
       "    <tr>\n",
       "      <th>3</th>\n",
       "      <td>Banjo-Kazooie</td>\n",
       "      <td>92</td>\n",
       "      <td>91</td>\n",
       "      <td>91.5</td>\n",
       "      <td>Rare Ltd.</td>\n",
       "      <td>3D Platformer</td>\n",
       "      <td>29/06/1998</td>\n",
       "    </tr>\n",
       "    <tr>\n",
       "      <th>4</th>\n",
       "      <td>Perfect Dark</td>\n",
       "      <td>97</td>\n",
       "      <td>85</td>\n",
       "      <td>91.0</td>\n",
       "      <td>Rare Ltd.</td>\n",
       "      <td>FPS</td>\n",
       "      <td>22/05/2000</td>\n",
       "    </tr>\n",
       "    <tr>\n",
       "      <th>5</th>\n",
       "      <td>Quake</td>\n",
       "      <td>94</td>\n",
       "      <td>87</td>\n",
       "      <td>90.5</td>\n",
       "      <td>id Software</td>\n",
       "      <td>FPS</td>\n",
       "      <td>22/06/1996</td>\n",
       "    </tr>\n",
       "  </tbody>\n",
       "</table>\n",
       "</div>"
      ],
      "text/plain": [
       "          Titolo  Metascore  User_Score  Media_Critica/Utenti    Developer  \\\n",
       "1  Mass Effect 2         96          89                  92.5      BioWare   \n",
       "2  GoldenEye 007         96          89                  92.5    Rare Ltd.   \n",
       "3  Banjo-Kazooie         92          91                  91.5    Rare Ltd.   \n",
       "4   Perfect Dark         97          85                  91.0    Rare Ltd.   \n",
       "5          Quake         94          87                  90.5  id Software   \n",
       "\n",
       "          Genres Released_on  \n",
       "1    Western RPG  26/01/2010  \n",
       "2            FPS  25/08/1997  \n",
       "3  3D Platformer  29/06/1998  \n",
       "4            FPS  22/05/2000  \n",
       "5            FPS  22/06/1996  "
      ]
     },
     "metadata": {},
     "output_type": "display_data"
    },
    {
     "name": "stdout",
     "output_type": "stream",
     "text": [
      "------------------------------------------------------------------\n",
      "\n",
      "I cinque peggiori titoli:\n",
      "\n",
      "------------------------------------------------------------------\n"
     ]
    },
    {
     "data": {
      "text/html": [
       "<div>\n",
       "<style scoped>\n",
       "    .dataframe tbody tr th:only-of-type {\n",
       "        vertical-align: middle;\n",
       "    }\n",
       "\n",
       "    .dataframe tbody tr th {\n",
       "        vertical-align: top;\n",
       "    }\n",
       "\n",
       "    .dataframe thead th {\n",
       "        text-align: right;\n",
       "    }\n",
       "</style>\n",
       "<table border=\"1\" class=\"dataframe\">\n",
       "  <thead>\n",
       "    <tr style=\"text-align: right;\">\n",
       "      <th></th>\n",
       "      <th>Titolo</th>\n",
       "      <th>Metascore</th>\n",
       "      <th>User_Score</th>\n",
       "      <th>Media_Critica/Utenti</th>\n",
       "      <th>Developer</th>\n",
       "      <th>Genres</th>\n",
       "      <th>Released_on</th>\n",
       "    </tr>\n",
       "  </thead>\n",
       "  <tbody>\n",
       "    <tr>\n",
       "      <th>1</th>\n",
       "      <td>DayZ</td>\n",
       "      <td>31</td>\n",
       "      <td>39</td>\n",
       "      <td>35.0</td>\n",
       "      <td>Dean 'Rocket' Hall</td>\n",
       "      <td>Survival</td>\n",
       "      <td>30/05/2019</td>\n",
       "    </tr>\n",
       "    <tr>\n",
       "      <th>2</th>\n",
       "      <td>Dead Space Ignition</td>\n",
       "      <td>35</td>\n",
       "      <td>42</td>\n",
       "      <td>38.5</td>\n",
       "      <td>Sumo Digital</td>\n",
       "      <td>Action Puzzle</td>\n",
       "      <td>13/10/2010</td>\n",
       "    </tr>\n",
       "    <tr>\n",
       "      <th>3</th>\n",
       "      <td>Call of Duty: Modern Warfare III</td>\n",
       "      <td>56</td>\n",
       "      <td>22</td>\n",
       "      <td>39.0</td>\n",
       "      <td>Sledgehammer Games</td>\n",
       "      <td>Tactical FPS</td>\n",
       "      <td>10/11/2023</td>\n",
       "    </tr>\n",
       "    <tr>\n",
       "      <th>4</th>\n",
       "      <td>Fallout 76</td>\n",
       "      <td>52</td>\n",
       "      <td>29</td>\n",
       "      <td>40.5</td>\n",
       "      <td>Bethesda Game Studios</td>\n",
       "      <td>Western RPG</td>\n",
       "      <td>14/11/2018</td>\n",
       "    </tr>\n",
       "    <tr>\n",
       "      <th>5</th>\n",
       "      <td>Madden NFL 24</td>\n",
       "      <td>65</td>\n",
       "      <td>17</td>\n",
       "      <td>41.0</td>\n",
       "      <td>EA Tiburon</td>\n",
       "      <td>Football Sim</td>\n",
       "      <td>18/08/2023</td>\n",
       "    </tr>\n",
       "  </tbody>\n",
       "</table>\n",
       "</div>"
      ],
      "text/plain": [
       "                             Titolo  Metascore  User_Score  \\\n",
       "1                              DayZ         31          39   \n",
       "2               Dead Space Ignition         35          42   \n",
       "3  Call of Duty: Modern Warfare III         56          22   \n",
       "4                        Fallout 76         52          29   \n",
       "5                     Madden NFL 24         65          17   \n",
       "\n",
       "   Media_Critica/Utenti              Developer         Genres Released_on  \n",
       "1                  35.0     Dean 'Rocket' Hall       Survival  30/05/2019  \n",
       "2                  38.5           Sumo Digital  Action Puzzle  13/10/2010  \n",
       "3                  39.0     Sledgehammer Games   Tactical FPS  10/11/2023  \n",
       "4                  40.5  Bethesda Game Studios    Western RPG  14/11/2018  \n",
       "5                  41.0             EA Tiburon   Football Sim  18/08/2023  "
      ]
     },
     "metadata": {},
     "output_type": "display_data"
    }
   ],
   "source": [
    "\n",
    "print(\"\\nI cinque migliori titoli:\\n\")\n",
    "print(\"-\" * 66)\n",
    "\n",
    "display(valutazioni.sort_values(by=\"Media_Critica/Utenti\",ascending=False)[[\"Titolo\",\"Metascore\",\"User_Score\",\"Media_Critica/Utenti\",\"Developer\",\"Genres\",\"Released_on\"]].head(5).reset_index(drop=True).set_index(pd.Index(range(1, 6))))\n",
    "\n",
    "print(\"-\" * 66)\n",
    "print(\"\\nI cinque peggiori titoli:\\n\")\n",
    "print(\"-\" * 66)\n",
    "\n",
    "display(valutazioni.sort_values(by=\"Media_Critica/Utenti\")[[\"Titolo\",\"Metascore\",\"User_Score\",\"Media_Critica/Utenti\",\"Developer\",\"Genres\",\"Released_on\"]].head(5).reset_index(drop=True).set_index(pd.Index(range(1, 6))))"
   ]
  },
  {
   "cell_type": "markdown",
   "id": "719ec2df-e3e1-433e-8b0d-fc1e3e71f266",
   "metadata": {},
   "source": [
    "##### I risultati del confronto tra la media di valutazione della critica e del pubblico: \n",
    "#####\n",
    "Nei migliori videogiochi:\n",
    "\n",
    " - Il primo posto lo ottiene \"Mass Effect 2\", nonostante non sia tra i primi cinque più apprezzati dagli utenti.\n",
    " - \"GoldenEye 007\" è in entrambe le classifiche, ma nella classifica degli utenti, risulta essere quarto.\n",
    " - \"Banjo-Kazooie\" risulta secondo come preferenze del pubblico, ma non figura nella classifica dei TOP 5, relativi ai \"Metascore\"\n",
    " - \"Perfect Dark\" nonostante sia primo tra le preferenze della critica, non è presente tra quelle del pubblico.\n",
    " - Stesso discorso per \"Quake\", che però risulta essere al quinto posto nella classifica della critica.\n",
    "\n",
    "Nei peggiori videogiochi:\n",
    "\n",
    " - Il primo posto, tra i peggiori, è riservato a \"DayZ\", che non figura nella classifica degli utenti, ma è primo in quella della critica.\n",
    " - Stessa sorte per \"Dead Space Ignition\", che risulta essere seconda anche tra i peggiori relativi ai \"Metascore\". Non presente tra quelli degli utenti.\n",
    " - \"Call of Duty: Modern Warfare III\" risulta quarto nella classifica dei peggiori per gli utenti, ma non è presente nella classifica della critica.\n",
    " - \"Fallout 76\" è quarto anche nella classifica della critica, ma non è presente in quella degli utenti.\n",
    " - \"Madden NFL 24\" risulta essere al secondo posto per gli utenti come gioco peggiore, ma non presente nei FLOP 5 della critica.\n",
    "\n",
    "Altre considerazioni: \n",
    "\n",
    "Nei migliori videogiochi:\n",
    "\n",
    " - La valutazione della critica, si aggira tra il 92 e il 97\n",
    " - La valutazione degli utenti, si aggira tra l'85 e il 91\n",
    " - Quattro giochi su cinque, risultano essere pubblicati prima del 2001\n",
    " - I generi preferiti sembrano essere gli: \"FPS\"\n",
    " - I developer più apprezzati sono quelli del team: \"Rare Ltd.\"\n",
    "\n",
    "Nei peggiori videogiochi:\n",
    "\n",
    " - La valutazione della critica, si aggira tra il 31 e il 65\n",
    " - La valutazione degli utenti, si aggira tra il 17 e il 42\n",
    " - Quattro giochi su cinque, risultano essere pubblicati dal 2018 in poi\n",
    " - Ci sono vari generi, quindi non si può analizzare il più \"odiato\"\n",
    " - Stessa cosa per gli sviluppatori."
   ]
  },
  {
   "cell_type": "markdown",
   "id": "89864733-3f0e-4403-ba40-edb4357455d0",
   "metadata": {},
   "source": [
    "## ---------------------------------------------------------------------------------------------------"
   ]
  },
  {
   "cell_type": "markdown",
   "id": "09146cc3-8746-42c8-abc3-eef115d76e16",
   "metadata": {},
   "source": [
    "## Considerazioni finali."
   ]
  },
  {
   "cell_type": "markdown",
   "id": "abe541f2-c3f2-48d4-b073-bc0695c8f321",
   "metadata": {
    "jp-MarkdownHeadingCollapsed": true
   },
   "source": [
    "Dopo aver analizzato tutti i vari aspetti richiesti, vorrei unire i dati più importanti e rispondere alla vostra richiesta di analisi. \n",
    "\n",
    "**Genere:**\n",
    "\n",
    " - Il genere più presente è quello degli FPS (9.18%) e il suo punteggio secondo la critica è di 81;\n",
    " - Ci sono due sottogeneri del genere \"Action\", ovvero \"Adventure\" e \"Open-World\", che sono tra i primi cinque più presenti, avendo una buona valutazione (78 e 76) e apparendo per il 15.68%;\n",
    " - Ci sono altri due sottogeneri di \"RPG\", ovvero \"Western\" e \"Action\", che sono tra i primi cinque più presenti, avendo un'ottima valutazione (83 e 79), e appaiono per il 9.94%;\n",
    " - I punteggi con il maggior Metascore, appaiono pochissime volte ma sono ben valutati.\n",
    "\n",
    "**Developer:**\n",
    "\n",
    " - Per quanto riguarda il numero di titoli che più sono presenti in relazione a gli sviluppatori, spicca \"Double Fine Productions\" con ben 13 titoli, anche se lo score medio dei suoi giochi si aggira sul punteggio di 80;\n",
    " - Possiamo notare che, per quanto riguarda i team di sviluppo: \"Rare Ltd.\" e \"PopCap\", l'ultimo gioco pubblicato da ognuno di loro, non ha ottenuto una buona valutazione. Invece per quanto riguarda \"Ryu ga Gotoku Studios\" e soprattutto \"Double Fine Productions\", l'ultimo titolo è andato molto bene. Caso diverso per \"BioWare\", in quanto l'ultimo gioco è andato bene, ma sembrerebbe essere una riedizione di altri titoli, mentre l'ultimo titolo, ovvero \"Anthem\", risulta essere andato molto male.\n",
    "\n",
    "**Data:**\n",
    "\n",
    " - I titoli pubblicati prima del 2000 sono stati solo 11, mostrando come preferite inserire, nel catalogo, titoli quanto più recenti possibili (dato che dal 2017 fino al 2024, i valori sono più alti dei precedenti periodi).\n",
    "\n",
    "**Videogiochi:**\n",
    "\n",
    "Nei migliori videogiochi:\n",
    "\n",
    " - Per quanto riguarda la media tra la valutazione della critica e dei videogiocatori, il primo posto lo ottiene \"Mass Effect 2\", nonostante non sia tra i primi cinque più apprezzati dagli utenti. Gli altri 4 posti della TOP 5 sono occupati da: \"\"GoldenEye 007\"; \"Banjo-Kazooie\"; \"Perfect Dark\"; \"Quake\";\n",
    " - I generi preferiti, in relazione alla vlautazione, sono: \"FPS\";\n",
    " - I developer più apprezzati, in relazione alla vlautazione, sono quelli del team: \"Rare Ltd.\"\n",
    "\n",
    "Nei peggiori videogiochi:\n",
    "\n",
    " - Il primo posto, tra i peggiori, è riservato a \"DayZ\", poi troviamo: \"Dead Space Ignition\"; \"Call of Duty: Modern Warfare III\"; \"Fallout 76\"; \"Madden NFL 24\";\n",
    " - Quattro giochi su cinque, risultano essere pubblicati dal 2018 in poi.\n",
    "   \n",
    "\n",
    "#### **Per rispondere alla vostra richiesta:**\n",
    "\n",
    "\n",
    "*\"L'obiettivo dell'analisi è di di individuare, attraverso i dati estratti, tipologia di titoli da inserire in futuro nel catalogo, analizzando le valutazioni, generi, sviluppatori ed eventualmente anche date di rilascio di quelli presenti nella lista.\"*\n",
    "\n",
    "- Il genere FPS è quello più apprezzato, e la media della critica è di 81, quindi ben superiore alla sufficienza. Dunque potreste puntare su di esso nel caso in cui voleste inserire titoli che certamente andrebbero bene a livello di valutazione;\n",
    "  - Bisognerebbe considerare se si può inserire qualche altro titolo per questi generi: RPG e Action (e sottogeneri a loro annessi), sia per puntare sulla varietà offerta dall'abbonamento, sia perchè gli stessi sono ben valutati ma poco sfruttati. Potrebbero portare quel livello in più di qualità all'abbonamento;\n",
    "  - Non bisogna puntare su generi sportivi in generale, in quanto hanno pessime valutazioni (i primi 5 della Flop list, sono proprio titoli sportivi).\n",
    "    ####\n",
    "- Gli sviluppatori di \"Double Fine Productions\", sono una garanzia per quanto riguarda le valutazioni dei propri giochi. Possiamo notare, con i loro 13 titoli, che state puntando molto su di loro. Essi sono gli sviluppatori del titolo \"Psychonauts 2\", uscito nel 2021 e che ha ottenuto ottimi voti da critica e utenza (rispettivamente 87 e 81). Puntare su di loro significa alzare la valutazione media dei titoli del catalogo, sicuramente un cavallo vincente.\n",
    "\n",
    " - Gli sviluppatori di \"Double Fine Productions\", sono una garanzia per quanto riguarda le valutazioni dei propri giochi. Possiamo notare, con i loro 13 titoli, che state puntando molto su di loro. Sono gli sviluppatori del titolo \"Psychonauts 2\", uscito nel 2021 e che ha ottenuto ottimi voti da critica e utenza (rispettivamente 87 e 81). Puntare su di loro significa alzare la valutazione media dei titoli del catalogo, un cavallo su cui si potrebbe puntare.\n",
    "\n",
    " - Altri studi con un ottimo potenziale sono \"Rare Ltd.\" e \"PopCap\", che li troviamo nella top 5 dei giochi migliori nel vostro catalogo Gamepass. Però, il loro ultimo titolo non ha eccelso nelle valutazioni (Sea of Thieves prodotto da Rare Ltd. nel 2018, voto Metascore: 69; Plants vs. Zombies: Battle for Neighborville prodotto da PopCap nel 2019, con valutazione Metascore: 77).\n",
    "\n",
    " - Da tenere d'occhio sicuramente il team di \"Ryu ga Gotoku Studios\", che con una media complessiva del loro titoli, per Metascore, di 81,88 potrebbero portare qualità (ultimo titolo uscito: Yakuza: Like a Dragon, valutazione Metascore: 84, uscito nel 2020), anche se molti dei loro titoli sono riedizioni di vecchie glorie.\n",
    "\n",
    "   - Stesso discorso, ma in negativo per quanto riguarda BioWare, in quanto ha altissime valutazioni per i tuoi titoli più datati, mentre gli ultimi due (Anthem e Mass Effect: Andromeda), hanno ottenuto pessime recensioni, sia da critica che dagli utenti. Potreste puntare su di loro, per quanto riguarda i titoli più datati, anche se sono presenti in numero cospicuo nel vostro servizio. Forse qualche ultima aggiunta al catalogo, potrebbe essere gradita al pubblico.\n",
    "    ####\n",
    "- I titoli pubblicati prima del 2000 sono stati solo 11, mostrando come preferite inserire, nel catalogo, titoli quanto più recenti possibili dato che dal 2017 fino al 2025, i valori sono più alti dei precedenti periodi (344 titoli, contro i 172).\n",
    "   - Sembrerebbe che stiate puntando su una fascia di utenza più giovane, in quanto state cercando di inserire quanti più titoli usciti recentemente, non inserendo invece quelli prima del 2000. Sarebbe un ottima idea puntare anche su quelli, in quanto verrebbero apprezzati di più da utenti più adulti e quindi più propensi a iscrivere un abbonamento (avendo probabilmente più possibilità economiche per poter acquistare il suddetto). Da forza al ragionamento, il fatto che quattro titoli su cinque della TOP 5 (media valutazione Metascore/utenti), risultano essere pubblicati prima del 2001."
   ]
  }
 ],
 "metadata": {
  "kernelspec": {
   "display_name": "Python 3 (ipykernel)",
   "language": "python",
   "name": "python3"
  },
  "language_info": {
   "codemirror_mode": {
    "name": "ipython",
    "version": 3
   },
   "file_extension": ".py",
   "mimetype": "text/x-python",
   "name": "python",
   "nbconvert_exporter": "python",
   "pygments_lexer": "ipython3",
   "version": "3.12.7"
  }
 },
 "nbformat": 4,
 "nbformat_minor": 5
}
